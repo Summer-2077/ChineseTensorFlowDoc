{
 "cells": [
  {
   "cell_type": "markdown",
   "metadata": {
    "colab_type": "text",
    "id": "SIFN9_BcY-iO"
   },
   "source": [
    "# 函数式API\n",
    "\n",
    "\n",
    "### 引入"
   ]
  },
  {
   "cell_type": "code",
   "execution_count": null,
   "metadata": {
    "colab": {},
    "colab_type": "code",
    "id": "oIuNtN3z-o_0"
   },
   "outputs": [],
   "source": [
    "import numpy as np\n",
    "import tensorflow as tf\n",
    "from tensorflow import keras\n",
    "from tensorflow.keras import layers"
   ]
  },
  {
   "cell_type": "markdown",
   "metadata": {
    "colab_type": "text",
    "id": "P6vU-sP_ZQAE"
   },
   "source": [
    "### 简介\n",
    "\n",
    "Keras的函数式API是一种相对于Sequential API更为灵活地创建模型的方法。函数式API(把层当作函数来使用)可以处理非线性拓扑、共享层、多输入或输出的模型。\n",
    "\n",
    "深度学习模型通常是层的有向无环图(DAG)结构，所以函数式API可以用来满足这样的需求。\n",
    "\n",
    "我们先来思考下面的模型结构："
   ]
  },
  {
   "cell_type": "markdown",
   "metadata": {
    "colab": {},
    "colab_type": "code",
    "id": "EIuQ24Sub45r"
   },
   "source": [
    "(input: 784-dimensional vectors)<br/>\n",
    "       ↧<br/>\n",
    "Dense (64 units, relu activation)<br/>\n",
    "       ↧<br/>\n",
    "Dense (64 units, relu activation)<br/>\n",
    "       ↧<br/>\n",
    "Dense (10 units, softmax activation)<br/>\n",
    "       ↧<br/>\n",
    "(output: 十个类别的概率分布值)<br/>"
   ]
  },
  {
   "cell_type": "markdown",
   "metadata": {
    "colab_type": "text",
    "id": "nz0Cb-ZtcfUV"
   },
   "source": [
    "这是含有三个层的简单结构，我们下面使用函数式API来创建这个模型，首先创建一个输入节点。"
   ]
  },
  {
   "cell_type": "code",
   "execution_count": null,
   "metadata": {
    "colab": {},
    "colab_type": "code",
    "id": "3sgfc-6wb42z"
   },
   "outputs": [],
   "source": [
    "inputs = keras.Input(shape=(784,))"
   ]
  },
  {
   "cell_type": "markdown",
   "metadata": {
    "colab_type": "text",
    "id": "ZWeDHD2IdAZi"
   },
   "source": [
    "输入数据的形状被设置为一个784维的向量，这里我们只指定每个样本的形状，通常省略批量大小。\n",
    "\n",
    "\n",
    "例如，如果用形状为(32,32,3)的图片数据作为输入，我们可以如下这样做："
   ]
  },
  {
   "cell_type": "code",
   "execution_count": null,
   "metadata": {
    "colab": {},
    "colab_type": "code",
    "id": "UrONRiEfBnN8"
   },
   "outputs": [],
   "source": [
    "# 仅用于示例\n",
    "img_input = keras.Input(shape=(32, 32, 3))"
   ]
  },
  {
   "cell_type": "markdown",
   "metadata": {
    "colab_type": "text",
    "id": "nkGA4y7lB8DJ"
   },
   "source": [
    "在前面的`inputs`中，包含了给模型输入数据的`shape`以及`dtype`，`shape`信息如下："
   ]
  },
  {
   "cell_type": "code",
   "execution_count": null,
   "metadata": {
    "colab": {
     "base_uri": "https://localhost:8080/",
     "height": 35
    },
    "colab_type": "code",
    "id": "NOYFH9H9DNw_",
    "outputId": "04735fcd-b746-4995-f1cd-7fc0275d155f"
   },
   "outputs": [],
   "source": [
    "inputs.shape"
   ]
  },
  {
   "cell_type": "markdown",
   "metadata": {
    "colab_type": "text",
    "id": "oq2Zdcm5DVpp"
   },
   "source": [
    "`dtype`信息如下："
   ]
  },
  {
   "cell_type": "code",
   "execution_count": null,
   "metadata": {
    "colab": {
     "base_uri": "https://localhost:8080/",
     "height": 35
    },
    "colab_type": "code",
    "id": "LKgNUWvFDZdJ",
    "outputId": "8e909098-d837-42f3-c898-e745156b4b43"
   },
   "outputs": [],
   "source": [
    "inputs.dtype"
   ]
  },
  {
   "cell_type": "markdown",
   "metadata": {
    "colab_type": "text",
    "id": "I2krZqm4DdJB"
   },
   "source": [
    "接下来创建一个新节点层，并用`inputs`作为输入调用该层："
   ]
  },
  {
   "cell_type": "code",
   "execution_count": null,
   "metadata": {
    "colab": {},
    "colab_type": "code",
    "id": "K2cFUYlfEA3s"
   },
   "outputs": [],
   "source": [
    "dense = layers.Dense(64, activation='relu')\n",
    "x = dense(inputs)"
   ]
  },
  {
   "cell_type": "markdown",
   "metadata": {
    "colab_type": "text",
    "id": "_B_rDKqxEJiZ"
   },
   "source": [
    "这里“调用层”的操作类似前面模型结构那样，由`inputs`指向创建的层。通过将`inputs`传递给`dense`层，并将输出赋给x。\n",
    "\n",
    "继续往结构中添加层："
   ]
  },
  {
   "cell_type": "code",
   "execution_count": null,
   "metadata": {
    "colab": {},
    "colab_type": "code",
    "id": "rI4gk59WFXo3"
   },
   "outputs": [],
   "source": [
    "x = layers.Dense(64, activation='relu')(x)\n",
    "outputs = layers.Dense(10)(x)"
   ]
  },
  {
   "cell_type": "markdown",
   "metadata": {
    "colab_type": "text",
    "id": "eeEBU8N0Fhgg"
   },
   "source": [
    "到这一步为止，你可以创建一个模型，并指定输入和输出："
   ]
  },
  {
   "cell_type": "code",
   "execution_count": null,
   "metadata": {
    "colab": {},
    "colab_type": "code",
    "id": "56bZE-O8FxPg"
   },
   "outputs": [],
   "source": [
    "model = keras.Model(inputs=inputs, outputs=outputs, name='mnist_model')"
   ]
  },
  {
   "cell_type": "markdown",
   "metadata": {
    "colab_type": "text",
    "id": "B1b5hSM9F5ia"
   },
   "source": [
    "现在我们查看一下模型的相关信息："
   ]
  },
  {
   "cell_type": "code",
   "execution_count": null,
   "metadata": {
    "colab": {
     "base_uri": "https://localhost:8080/",
     "height": 305
    },
    "colab_type": "code",
    "id": "Zzk4Ozt9F_ZJ",
    "outputId": "cdb64509-9f35-422a-806f-fd4176d6ecee"
   },
   "outputs": [],
   "source": [
    "model.summary()"
   ]
  },
  {
   "cell_type": "markdown",
   "metadata": {
    "colab_type": "text",
    "id": "qQrWSMsaGE2k"
   },
   "source": [
    "你还可以将模型结构绘制成图："
   ]
  },
  {
   "cell_type": "code",
   "execution_count": null,
   "metadata": {
    "colab": {
     "base_uri": "https://localhost:8080/",
     "height": 369
    },
    "colab_type": "code",
    "id": "18Uqg19VGNgI",
    "outputId": "fd839dbd-1dd6-40ab-8989-bab9040182ef"
   },
   "outputs": [],
   "source": [
    "keras.utils.plot_model(model, \"my_first_model.png\")"
   ]
  },
  {
   "cell_type": "markdown",
   "metadata": {
    "colab_type": "text",
    "id": "1_XZePgeGwYx"
   },
   "source": [
    "不仅如此，你还可以展现更详细的信息，包括每一层的输入和输出："
   ]
  },
  {
   "cell_type": "code",
   "execution_count": null,
   "metadata": {
    "colab": {
     "base_uri": "https://localhost:8080/",
     "height": 422
    },
    "colab_type": "code",
    "id": "JiiSsK6MGs5z",
    "outputId": "75b77137-33d8-4932-d83a-80365b8e42a8"
   },
   "outputs": [],
   "source": [
    "keras.utils.plot_model(model, \"my_first_model_with_shape_info.png\", show_shapes=True)"
   ]
  },
  {
   "cell_type": "markdown",
   "metadata": {
    "colab_type": "text",
    "id": "11dZ2z_eG_BC"
   },
   "source": [
    "图中展现的结构与代码中构建的几乎相同，只不过将代码中的调用操作替换成了箭头指示。\n",
    "\n",
    "“由层构成的图”是深度学习模型的直观影像，而函数式API就是以这种类似的方式创建模型。\n",
    "\n",
    "### 训练，评估和预测\n",
    "\n",
    "对于函数式API模型和Sequential模型而言，它们的训练，评估和预测的工作方式基本相同。\n",
    "\n",
    "接下来，我们首先加载[MNIST](http://yann.lecun.com/exdb/mnist/)数据集，并调整`shape`和`astype`，用于模型的训练(在验证集上监控性能)，然后在测试集上评估模型："
   ]
  },
  {
   "cell_type": "code",
   "execution_count": null,
   "metadata": {
    "colab": {
     "base_uri": "https://localhost:8080/",
     "height": 179
    },
    "colab_type": "code",
    "id": "B7L3zQsQLu2X",
    "outputId": "61873621-3105-42c5-e056-c8147a0a45d3"
   },
   "outputs": [],
   "source": [
    "(x_train, y_train), (x_test, y_test) = keras.datasets.mnist.load_data()\n",
    "\n",
    "x_train = x_train.reshape(60000, 784).astype('float32') / 255\n",
    "x_test = x_test.reshape(10000, 784).astype('float32') / 255\n",
    "\n",
    "model.compile(\n",
    "  loss=keras.losses.SparseCategoricalCrossentropy(from_logits=True),\n",
    "  optimizer=keras.optimizers.RMSprop(),\n",
    "  metrics=['accuracy'],\n",
    ")\n",
    "\n",
    "history = model.fit(x_train, y_train, batch_size=64, epochs=2, validation_split=0.2)\n",
    "\n",
    "test_scores = model.evaluate(x_test, y_test, verbose=2)\n",
    "print(\"Test loss:\", test_scores[0])\n",
    "print(\"Test accuracy:\", test_scores[1])"
   ]
  },
  {
   "cell_type": "markdown",
   "metadata": {
    "colab_type": "text",
    "id": "Se8QUMJ5NQu_"
   },
   "source": [
    "更多有关阅读，请参阅[训练和评估指南](https://tensorflow.google.cn/guide/keras/train_and_evaluate/)。\n",
    "\n",
    "### 保存和序列化\n",
    "\n",
    "对于函数式API模型和Sequential模型而言，它们的保存模型和序列化的工作方式基本相同。保存函数式模型的标准方法是调用`model.save()`将整个模型保存为单个文件。即使构建该模型的代码不再可用，你也可以从该文件重新创建相同的模型。\n",
    "\n",
    "保存文件包括：\n",
    "+ 模型的结构\n",
    "+ 模型的权重值(已经在训练中学习到的)\n",
    "+ 如果有的话，模型的训练配置(传递给`compile`)\n",
    "+ 如果有的话，优化器和它的状态(可以在你中断处重新训练)"
   ]
  },
  {
   "cell_type": "code",
   "execution_count": null,
   "metadata": {
    "colab": {
     "base_uri": "https://localhost:8080/",
     "height": 109
    },
    "colab_type": "code",
    "id": "wiyZQBo4PnBU",
    "outputId": "32dc97bb-df13-4077-9851-1dc8b91c1988"
   },
   "outputs": [],
   "source": [
    "model.save(\"path_to_my_model\")\n",
    "del model\n",
    "# 仅通过模型文件创建一个完全相同的模型\n",
    "model = keras.models.load_model(\"path_to_my_model\")"
   ]
  },
  {
   "cell_type": "markdown",
   "metadata": {
    "colab_type": "text",
    "id": "xvAZZv_PQKd2"
   },
   "source": [
    "更多细节，请参阅[序列化&保存](https://tensorflow.google.cn/guide/keras/save_and_serialize/)指南\n",
    "\n",
    "\n",
    "### 使用相同的层图定义多个模型\n",
    "\n",
    "在函数式API中，可以通过层图(grpah of layers)指定的输入和输出创建模型。这意味着一个层图可以用于生成多个模型。\n",
    "\n",
    "在下面的例子中，你将会使用同一个层堆叠实例化两个模型：一个是将图像输入转换为16维向量的`encoder`模型，另一个是用于训练的端到端`autoencoder`模型。\n"
   ]
  },
  {
   "cell_type": "code",
   "execution_count": null,
   "metadata": {
    "colab": {
     "base_uri": "https://localhost:8080/",
     "height": 1000
    },
    "colab_type": "code",
    "id": "23FlV_n5SEz3",
    "outputId": "168cb604-b5f7-4e69-d164-2da447b763b7"
   },
   "outputs": [],
   "source": [
    "encoder_input = keras.Input(shape=(28, 28, 1), name=\"img\")\n",
    "x = layers.Conv2D(16, 3, activation=\"relu\")(encoder_input)\n",
    "x = layers.Conv2D(32, 3, activation=\"relu\")(x)\n",
    "x = layers.MaxPooling2D(3)(x)\n",
    "x = layers.Conv2D(32, 3, activation=\"relu\")(x)\n",
    "x = layers.Conv2D(16, 3, activation=\"relu\")(x)\n",
    "encoder_output = layers.GlobalMaxPool2D()(x)\n",
    "\n",
    "encoder = keras.Model(encoder_input, encoder_output, name=\"encoder\")  # 编码器模型\n",
    "encoder.summary()\n",
    "\n",
    "x = layers.Reshape((4, 4, 1))(encoder_output)\n",
    "x = layers.Conv2DTranspose(16, 3, activation=\"relu\")(x)\n",
    "x = layers.Conv2DTranspose(32, 3, activation=\"relu\")(x)\n",
    "x = layers.UpSampling2D(3)(x)\n",
    "x = layers.Conv2DTranspose(16, 3, activation=\"relu\")(x)\n",
    "decoder_output = layers.Conv2DTranspose(1, 3, activation=\"relu\")(x)\n",
    "\n",
    "autoencoder = keras.Model(encoder_input, decoder_output, name=\"autoencoder\")\n",
    "autoencoder.summary()"
   ]
  },
  {
   "cell_type": "markdown",
   "metadata": {
    "colab_type": "text",
    "id": "BV81yU-iUR7r"
   },
   "source": [
    "我们可以看到，解码与编码的结构严格对称，因此它们各自的输出形状与输入形状相同。\n",
    "\n",
    "Conv2D层和Conv2DTranspose层相对，MaxPooling2D层和UpSampling2D层相对。\n",
    "\n",
    "### 所有的模型都可以调用，就像层一样\n",
    "\n",
    "你可以像处理层那样，在输入和输出上调用模型。 通过调用模型，您不仅可以重用模型的体系结构，还可以重用其权重。 \n",
    "\n",
    "为了进一步理解，下面将展示自动编码器的另一种处理方式，该示例创建一个编码器模型和一个解码器模型，并将它们通过链式调用得到输入输出，以此创建自动编码器模型："
   ]
  },
  {
   "cell_type": "code",
   "execution_count": null,
   "metadata": {
    "colab": {
     "base_uri": "https://localhost:8080/",
     "height": 1000
    },
    "colab_type": "code",
    "id": "6BqZKp10Vu04",
    "outputId": "33f6f906-000f-48dd-c4ad-bab5bd32e86a"
   },
   "outputs": [],
   "source": [
    "encoder_input = keras.Input(shape=(28, 28, 1), name=\"original_img\")\n",
    "x = layers.Conv2D(16, 3, activation=\"relu\")(encoder_input)\n",
    "x = layers.Conv2D(32, 3, activation=\"relu\")(x)\n",
    "x = layers.MaxPooling2D(3)(x)\n",
    "x = layers.Conv2D(32, 3, activation=\"relu\")(x)\n",
    "x = layers.Conv2D(16, 3, activation=\"relu\")(x)\n",
    "encoder_output = layers.GlobalMaxPooling2D()(x)\n",
    "\n",
    "encoder = keras.Model(encoder_input, encoder_output, name=\"encoder\")\n",
    "encoder.summary()\n",
    "\n",
    "decoder_input = keras.Input(shape=(16,), name=\"encoded_img\")\n",
    "x = layers.Reshape((4, 4, 1))(decoder_input)\n",
    "x = layers.Conv2DTranspose(16, 3, activation=\"relu\")(x)\n",
    "x = layers.Conv2DTranspose(32, 3, activation=\"relu\")(x)\n",
    "x = layers.UpSampling2D(3)(x)\n",
    "x = layers.Conv2DTranspose(16, 3, activation=\"relu\")(x)\n",
    "decoder_output = layers.Conv2DTranspose(1, 3, activation=\"relu\")(x)\n",
    "\n",
    "decoder = keras.Model(decoder_input, decoder_output, name=\"decoder\")\n",
    "decoder.summary()\n",
    "\n",
    "autoencoder_input = keras.Input(shape=(28, 28, 1), name=\"img\")\n",
    "encoded_img = encoder(autoencoder_input)\n",
    "decoded_img = decoder(encoded_img)\n",
    "autoencoder = keras.Model(autoencoder_input, decoded_img, name=\"autoencoder\")\n",
    "autoencoder.summary()"
   ]
  },
  {
   "cell_type": "markdown",
   "metadata": {
    "colab_type": "text",
    "id": "iFec_iR5XgEt"
   },
   "source": [
    "如你所见，模型可以嵌套：模型可以包含子模型(模型就像层一样)。模型嵌套的一个常见用例是*集成ensemble*。例如，以下是将一组模型合并一个模型，并将它们的平均预测作为输出："
   ]
  },
  {
   "cell_type": "code",
   "execution_count": null,
   "metadata": {
    "colab": {},
    "colab_type": "code",
    "id": "eZKkVvrdYH7A"
   },
   "outputs": [],
   "source": [
    "def get_model():\n",
    "  inputs = keras.Input(shape=(128,))\n",
    "  outputs = layers.Dense(1)(inputs)\n",
    "  return keras.Model(inputs, outputs)\n",
    "\n",
    "# 三个结构相同的不同模型，不同的初始化，不同的权重\n",
    "model1 = get_model()\n",
    "model2 = get_model()\n",
    "model3 = get_model()\n",
    "\n",
    "inputs = keras.Input(shape=(128,))\n",
    "y1 = model1(inputs)\n",
    "y2 = model2(inputs)\n",
    "y3 = model3(inputs)\n",
    "\n",
    "outputs = layers.average([y1, y2, y3])\n",
    "ensemble_model = keras.Model(inputs=inputs, outputs=outputs)"
   ]
  },
  {
   "cell_type": "markdown",
   "metadata": {
    "colab_type": "text",
    "id": "E1MZfmj_ZQES"
   },
   "source": [
    "### 处理复杂的图拓扑\n",
    "\n",
    "#### 拥有多输入和多输出的模型\n",
    "\n",
    "函数式API使得非常容易操作多输入和多输出的模型，这是`Sequential`API所办不到的。\n",
    "\n",
    "例如，如果您要构建一个按优先级对定制票据排序，并将其匹配到正确部门的系统，则该模型将具有三个输入：\n",
    "+ 票据的标题(文字输入)\n",
    "+ 票据的文本正文(文字输入)\n",
    "+ 人为添加的标签(分类输入)\n",
    "\n",
    "该模型将具有两个输出：\n",
    "+ 介于0和1之间的优先级分数(sigmoid的标量输出)\n",
    "+ 负责票务的部门概率分布(部门的softmax输出)\n",
    "\n",
    "通过函数式API，你只需要数行代码就可以完成创建该模型："
   ]
  },
  {
   "cell_type": "code",
   "execution_count": null,
   "metadata": {
    "colab": {},
    "colab_type": "code",
    "id": "_vJDwJTmcBtN"
   },
   "outputs": [],
   "source": [
    "num_tags = 12  # 标签数量\n",
    "num_words = 10000  # 预处理文本数据的词汇量\n",
    "num_departments = 4  # 预测的部门数量\n",
    "\n",
    "title_input = keras.Input(\n",
    "    shape=(None,), name=\"title\"\n",
    ")  # 可变长度的整数序列\n",
    "body_input = keras.Input(shape=(None,), name=\"body\")  # 可变长度的整数序列\n",
    "tags_input = keras.Input(\n",
    "    shape=(num_tags,), name=\"tags\"\n",
    ")  # 大小为`num_tags`的二进制向量\n",
    "\n",
    "# 通过词嵌入层，每个标题单词将得到一个64维向量\n",
    "title_features = layers.Embedding(num_words, 64)(title_input)\n",
    "# 通过词嵌入层，每个正文文本单词将得到一个64维向量\n",
    "body_features = layers.Embedding(num_words, 64)(body_input)\n",
    "\n",
    "# 通过LSTM层，将得到的标题词嵌入向量序列压缩到128维的向量中\n",
    "title_features = layers.LSTM(128)(title_features)\n",
    "# 通过LSTM层，将得到的文本正文词嵌入向量序列压缩到32维的向量中\n",
    "body_features = layers.LSTM(32)(body_features)\n",
    "\n",
    "#通过`concatenate`将所有可用特征合并到一个大的向量中\n",
    "x = layers.concatenate([title_features, body_features, tags_input])\n",
    "\n",
    "# 将优先级预测的逻辑回归层连接到特征之上\n",
    "priority_pred = layers.Dense(1, name=\"priority\")(x)\n",
    "# 将部门分类器连接到特征之上\n",
    "department_pred = layers.Dense(num_departments, name=\"department\")(x)\n",
    "\n",
    "# 实例化预测优先级和部门的端到端模型\n",
    "model = keras.Model(\n",
    "    inputs=[title_input, body_input, tags_input],  # 多输入构成列表\n",
    "    outputs=[priority_pred, department_pred],  # 多输出\n",
    ")"
   ]
  },
  {
   "cell_type": "markdown",
   "metadata": {
    "colab_type": "text",
    "id": "sDdXRQXte5wz"
   },
   "source": [
    "现在我们来绘制模型："
   ]
  },
  {
   "cell_type": "code",
   "execution_count": null,
   "metadata": {
    "colab": {
     "base_uri": "https://localhost:8080/",
     "height": 533
    },
    "colab_type": "code",
    "id": "31O2LWMee8lJ",
    "outputId": "66545242-7d1e-45e5-d7ad-e2e78db03a9f"
   },
   "outputs": [],
   "source": [
    "keras.utils.plot_model(model, \"multi_input_and_output_model.png\", show_shapes=True)"
   ]
  },
  {
   "cell_type": "markdown",
   "metadata": {
    "colab_type": "text",
    "id": "TrPvLFL9krwj"
   },
   "source": [
    "编译此模型时，可以为每个输出分配不同的损失函数。你甚至可以为每个损失值分配不同的权重--调整它们各自对总训练损失的影响。"
   ]
  },
  {
   "cell_type": "code",
   "execution_count": null,
   "metadata": {
    "colab": {},
    "colab_type": "code",
    "id": "HIipUhcOlBss"
   },
   "outputs": [],
   "source": [
    "model.compile(\n",
    "    optimizer=keras.optimizers.RMSprop(1e-3),\n",
    "    loss=[\n",
    "        keras.losses.BinaryCrossentropy(from_logits=True),\n",
    "        keras.losses.CategoricalCrossentropy(from_logits=True),\n",
    "    ],  # 不同输出的损失函数列表\n",
    "    loss_weights=[1.0, 0.2],  # 不同输出损失的权值列表\n",
    ")"
   ]
  },
  {
   "cell_type": "markdown",
   "metadata": {
    "colab_type": "text",
    "id": "YoTXA-A3lFNf"
   },
   "source": [
    "由于输出层具有不同的名称，因此你还可以通过以下的方式指定损失函数："
   ]
  },
  {
   "cell_type": "code",
   "execution_count": null,
   "metadata": {
    "colab": {},
    "colab_type": "code",
    "id": "j6amm8hWlNhs"
   },
   "outputs": [],
   "source": [
    "model.compile(\n",
    "    optimizer=keras.optimizers.RMSprop(1e-3),\n",
    "    loss={\n",
    "        \"priority\": keras.losses.BinaryCrossentropy(from_logits=True),\n",
    "        \"department\": keras.losses.CategoricalCrossentropy(from_logits=True),\n",
    "    },\n",
    "    loss_weights=[1.0, 0.2],\n",
    ")"
   ]
  },
  {
   "cell_type": "markdown",
   "metadata": {
    "colab_type": "text",
    "id": "UR08dSfxlSuw"
   },
   "source": [
    "通过传入输入和目标的NumPy数组列表来训练模型："
   ]
  },
  {
   "cell_type": "code",
   "execution_count": null,
   "metadata": {
    "colab": {
     "base_uri": "https://localhost:8080/",
     "height": 107
    },
    "colab_type": "code",
    "id": "wbJUwtT4lekR",
    "outputId": "0c91eeb0-4fec-4e34-be83-5ebc940181fb"
   },
   "outputs": [],
   "source": [
    "# 创建模拟输入数据\n",
    "title_data = np.random.randint(num_words, size=(1280, 10))  # 这里标题长度其实指定为10，不是变长\n",
    "body_data = np.random.randint(num_words, size=(1280, 100))\n",
    "tags_data = np.random.randint(2, size=(1280, num_tags)).astype(\"float32\")\n",
    "\n",
    "# 创建模拟目标数据\n",
    "priority_targets = np.random.random(size=(1280, 1))\n",
    "dept_targets = np.random.randint(2, size=(1280, num_departments))\n",
    "\n",
    "model.fit(\n",
    "    {\"title\": title_data, \"body\": body_data, \"tags\": tags_data},  # 输入字典\n",
    "    {\"priority\": priority_targets, \"department\": dept_targets},  # 输出字典\n",
    "    epochs=2,\n",
    "    batch_size=32,\n",
    ")"
   ]
  },
  {
   "cell_type": "markdown",
   "metadata": {
    "colab_type": "text",
    "id": "N2J_cRskmJz_"
   },
   "source": [
    "当使用`Dataset`对象调用`fit`时，它应产生一个列表元组，例如`([title_data，body_data，tags_data]，[priority_targets，dept_targets])`或一个字典元组，例如`({'title'：title_data，'body'： body_data，“标签”：tags_data}，{“优先级”：priority_targets，“部门”：dept_targets})`。\n",
    "\n",
    "有关详细说明，请参阅[训练和评估](https://tensorflow.google.cn/guide/keras/train_and_evaluate/)指南。\n",
    "\n",
    "#### ResNet 模型\n",
    "除了方便构建拥有多个输入和输出的模型之外，函数式API也使得处理非线性拓扑连接变得容易--这些模型的层不是按照顺序连接的。`Sequential`API无法处理这样的模型结构。\n",
    "\n",
    "一个常见的例子是残差连接。为了演示如何工作的，接下来我们将通过CIFAR10来创建一个ResNet模型："
   ]
  },
  {
   "cell_type": "code",
   "execution_count": null,
   "metadata": {
    "colab": {
     "base_uri": "https://localhost:8080/",
     "height": 737
    },
    "colab_type": "code",
    "id": "aQg45rI7oBph",
    "outputId": "e12e9a2e-7364-4c92-91eb-30a94341a272"
   },
   "outputs": [],
   "source": [
    "inputs = keras.Input(shape=(32, 32, 3), name=\"img\")\n",
    "x = layers.Conv2D(32, 3, activation=\"relu\")(inputs)\n",
    "x = layers.Conv2D(64, 3, activation=\"relu\")(x)\n",
    "block_1_output = layers.MaxPooling2D(3)(x)\n",
    "\n",
    "x = layers.Conv2D(64, 3, activation=\"relu\", padding=\"same\")(block_1_output)\n",
    "x = layers.Conv2D(64, 3, activation=\"relu\", padding=\"same\")(x)\n",
    "block_2_output = layers.add([x, block_1_output])\n",
    "\n",
    "x = layers.Conv2D(64, 3, activation=\"relu\", padding=\"same\")(block_2_output)\n",
    "x = layers.Conv2D(64, 3, activation=\"relu\", padding=\"same\")(x)\n",
    "block_3_output = layers.add([x, block_2_output])\n",
    "\n",
    "x = layers.Conv2D(64, 3, activation=\"relu\")(block_3_output)\n",
    "x = layers.GlobalAveragePooling2D()(x)\n",
    "x = layers.Dense(256, activation=\"relu\")(x)\n",
    "x = layers.Dropout(0.5)(x)\n",
    "outputs = layers.Dense(10)(x)\n",
    "\n",
    "model = keras.Model(inputs, outputs, name=\"toy_resnet\")\n",
    "model.summary()"
   ]
  },
  {
   "cell_type": "markdown",
   "metadata": {
    "colab_type": "text",
    "id": "KTReo_wdqaoF"
   },
   "source": [
    "绘制模型图层"
   ]
  },
  {
   "cell_type": "code",
   "execution_count": null,
   "metadata": {
    "colab": {
     "base_uri": "https://localhost:8080/",
     "height": 1000
    },
    "colab_type": "code",
    "id": "hb48mY_Lqcyh",
    "outputId": "98dcd0f1-d385-485b-94ec-a600aa1c70bc"
   },
   "outputs": [],
   "source": [
    "keras.utils.plot_model(model, \"mini_resnet.png\", show_shapes=True)"
   ]
  },
  {
   "cell_type": "markdown",
   "metadata": {
    "colab_type": "text",
    "id": "snyL3KbTrJEq"
   },
   "source": [
    "现在训练模型"
   ]
  },
  {
   "cell_type": "code",
   "execution_count": null,
   "metadata": {
    "colab": {
     "base_uri": "https://localhost:8080/",
     "height": 89
    },
    "colab_type": "code",
    "id": "umgBivXfrML7",
    "outputId": "48ac1540-7e76-4ea1-e46a-2f4e67c9b2b2"
   },
   "outputs": [],
   "source": [
    "(x_train, y_train), (x_test, y_test) = keras.datasets.cifar10.load_data()\n",
    "\n",
    "x_train = x_train.astype(\"float32\") / 255.0\n",
    "x_test = x_test.astype(\"float32\") / 255.0\n",
    "y_train = keras.utils.to_categorical(y_train, 10)\n",
    "y_test = keras.utils.to_categorical(y_test, 10)\n",
    "\n",
    "model.compile(\n",
    "    optimizer=keras.optimizers.RMSprop(1e-3),\n",
    "    loss=keras.losses.CategoricalCrossentropy(from_logits=True),\n",
    "    metrics=[\"acc\"],\n",
    ")\n",
    "# 我们将数据限制为前1000个样本，节省执行时间\n",
    "# 以Colab上运行为例，对整个数据集进行训练，直到收敛为止！\n",
    "model.fit(x_train[:1000], y_train[:1000], batch_size=64, epochs=1, validation_split=0.2)"
   ]
  },
  {
   "cell_type": "markdown",
   "metadata": {
    "colab_type": "text",
    "id": "0gB0OVGcsebX"
   },
   "source": [
    "### 共享层\n",
    "\n",
    "函数式API的另一个很好的用途是使用共享层的模型。共享层是在同一模型中多次重用的层实例--它们学习层图中的多个流程路径相对应的特征。\n",
    "\n",
    "共享层通常用于编码有着相似空间的输入(例如，两个具有相似词汇的不同文本)。它们可以在这些不同的输入之间共享信息，并且可以在更少的数据上训练这种模型。 如果在输入之一中看到给定的单词，这将有利于处理通过共享层的所有输入。\n",
    "\n",
    "为了在函数式API中实现共享层的操作，在下面例子中，将多次调用同一个层的实例，即在两个不同的文本输入之间共享的`Embedding`层："
   ]
  },
  {
   "cell_type": "code",
   "execution_count": null,
   "metadata": {
    "colab": {},
    "colab_type": "code",
    "id": "1ZdrYbz8uOYH"
   },
   "outputs": [],
   "source": [
    "# 通过词嵌入层，将1000个不同的单词映射得到一个128维向量\n",
    "shared_embedding = layers.Embedding(1000, 128)\n",
    "\n",
    "# 可变长度整数序列\n",
    "text_input_a = keras.Input(shape=(None,), dtype=\"int32\")\n",
    "\n",
    "# 可变长度整数序列\n",
    "text_input_b = keras.Input(shape=(None,), dtype=\"int32\")\n",
    "\n",
    "# 重用同一个层来编码两个输入\n",
    "encoded_input_a = shared_embedding(text_input_a)\n",
    "encoded_input_b = shared_embedding(text_input_b)"
   ]
  },
  {
   "cell_type": "markdown",
   "metadata": {
    "colab_type": "text",
    "id": "KvIrlY22vVKB"
   },
   "source": [
    "### 提取和重用层图中的节点\n",
    "\n",
    "由于我们要处理的层图是静态数据结构，因此可以对其进行访问和检查，这就是将函数式模型绘制为图像的方式。\n",
    "\n",
    "这也意味着您可以访问中间层的激活(即图中的“节点”)，并在其他需要的地方重用它们--这对于诸如特征提取之类的操作非常有用。\n",
    "\n",
    "让我们来看一个例子。这是一个VGG19模型，其权重在ImageNet上进行了预训练："
   ]
  },
  {
   "cell_type": "code",
   "execution_count": null,
   "metadata": {
    "colab": {
     "base_uri": "https://localhost:8080/",
     "height": 53
    },
    "colab_type": "code",
    "id": "zBu2B1mSwEBU",
    "outputId": "3ba65385-72d6-4594-c7e6-554fcd56e124"
   },
   "outputs": [],
   "source": [
    "vgg19 = tf.keras.applications.VGG19()"
   ]
  },
  {
   "cell_type": "markdown",
   "metadata": {
    "colab_type": "text",
    "id": "1ABCBKzLwICk"
   },
   "source": [
    "下面是通过查询图形数据结构，获得模型的中间激活："
   ]
  },
  {
   "cell_type": "code",
   "execution_count": null,
   "metadata": {
    "colab": {},
    "colab_type": "code",
    "id": "w8rn9UCtwPAs"
   },
   "outputs": [],
   "source": [
    "features_list = [layer.output for layer in vgg19.layers]"
   ]
  },
  {
   "cell_type": "markdown",
   "metadata": {
    "colab_type": "text",
    "id": "DfL77WaCwyfw"
   },
   "source": [
    "使用提取的特征来创建新的模型，该模型返回中间层激活的值："
   ]
  },
  {
   "cell_type": "code",
   "execution_count": null,
   "metadata": {
    "colab": {},
    "colab_type": "code",
    "id": "E2sQqVO8xGnB"
   },
   "outputs": [],
   "source": [
    "feat_extraction_model = keras.Model(inputs=vgg19.input, outputs=features_list)\n",
    "\n",
    "img = np.random.random((1, 224, 224, 3)).astype(\"float32\")\n",
    "extracted_features = feat_extraction_model(img)"
   ]
  },
  {
   "cell_type": "markdown",
   "metadata": {
    "colab_type": "text",
    "id": "AJvY3ty7xOHM"
   },
   "source": [
    "这尤其适用于诸如[神经风格迁移](https://keras.io/examples/generative/neural_style_transfer/)之类的任务。\n",
    "\n",
    "### 使用自定义层扩展API\n",
    "\n",
    "tf.keras包含各种内置层，例如：\n",
    "+ 卷积层：`Conv1D`,`Conv2D`,`Conv3D`,`Conv2DTranspose`\n",
    "+ 池化层：`MaxPooling1D`,`MaxPooling2D`,`MaxPooling3D`,`AveragePooling1D`\n",
    "+ RNN层：`GRU`,`LSTM`,`ConvLSTM2D`\n",
    "+ `BatchNormalization`,`Dropout`,`Embedding`等等\n",
    "\n",
    "但是，如果找不到合适的层，则可以通过创建自己的层来扩展API。所有层都继承了`Layer`类并实现如下方法：\n",
    "+ `call`方法，它指定由层完成的计算\n",
    "+ `build`方法，创建图层的权重(这只是一种风格约定，因为你也可以在__init__中创建权重)\n",
    "\n",
    "要了解有关从头开始创建层的更多信息，请阅读[自定义层和模型](https://tensorflow.google.cn/guide/keras/custom_layers_and_models)指南。\n",
    "\n",
    "以下是`tf.keras.layers.Dense`的基本实现："
   ]
  },
  {
   "cell_type": "code",
   "execution_count": null,
   "metadata": {
    "colab": {},
    "colab_type": "code",
    "id": "Ya7dtAIrz2ql"
   },
   "outputs": [],
   "source": [
    "class CustomDense(layers.Layer):\n",
    "    def __init__(self, units=32):\n",
    "        super(CustomDense, self).__init__()\n",
    "        self.units = units\n",
    "\n",
    "    def build(self, input_shape):\n",
    "        self.w = self.add_weight(\n",
    "            shape=(input_shape[-1], self.units),  # 没有批维\n",
    "            initializer=\"random_normal\",\n",
    "            trainable=True,\n",
    "        )\n",
    "        self.b = self.add_weight(\n",
    "            shape=(self.units,), initializer=\"random_normal\", trainable=True\n",
    "        )\n",
    "\n",
    "    def call(self, inputs):\n",
    "        return tf.matmul(inputs, self.w) + self.b\n",
    "\n",
    "\n",
    "inputs = keras.Input((4,))\n",
    "outputs = CustomDense(10)(inputs)\n",
    "\n",
    "model = keras.Model(inputs, outputs)"
   ]
  },
  {
   "cell_type": "markdown",
   "metadata": {
    "colab_type": "text",
    "id": "JZQE7P-Y0Dkr"
   },
   "source": [
    "为了在自定义层中能够支持序列化，需要定义一个`get_config`方法，该方法返回该层实例的构造函数参数："
   ]
  },
  {
   "cell_type": "code",
   "execution_count": null,
   "metadata": {
    "colab": {},
    "colab_type": "code",
    "id": "EJ_QzhfN0PZT"
   },
   "outputs": [],
   "source": [
    "class CustomDense(layers.Layer):\n",
    "    def __init__(self, units=32):\n",
    "        super(CustomDense, self).__init__()\n",
    "        self.units = units\n",
    "\n",
    "    def build(self, input_shape):\n",
    "        self.w = self.add_weight(\n",
    "            shape=(input_shape[-1], self.units),\n",
    "            initializer=\"random_normal\",\n",
    "            trainable=True,\n",
    "        )\n",
    "        self.b = self.add_weight(\n",
    "            shape=(self.units,), initializer=\"random_normal\", trainable=True\n",
    "        )\n",
    "\n",
    "    def call(self, inputs):\n",
    "        return tf.matmul(inputs, self.w) + self.b\n",
    "\n",
    "    def get_config(self):\n",
    "        return {\"units\": self.units}\n",
    "\n",
    "\n",
    "inputs = keras.Input((4,))\n",
    "outputs = CustomDense(10)(inputs)\n",
    "\n",
    "model = keras.Model(inputs, outputs)\n",
    "config = model.get_config()\n",
    "\n",
    "new_model = keras.Model.from_config(config, custom_objects={\"CustomDense\": CustomDense})"
   ]
  },
  {
   "cell_type": "markdown",
   "metadata": {
    "colab_type": "text",
    "id": "KPpapbdE1G5Z"
   },
   "source": [
    "可以选择性的实现类方法`from_config(cls，config)`，该方法在给定其config字典的情况下，将重新创建层实例时使用。`from_config`的默认实现是："
   ]
  },
  {
   "cell_type": "code",
   "execution_count": null,
   "metadata": {
    "colab": {},
    "colab_type": "code",
    "id": "LRoxSJ3q1URR"
   },
   "outputs": [],
   "source": [
    "def from_config(cls, config):\n",
    "  return cls(**config)"
   ]
  },
  {
   "cell_type": "markdown",
   "metadata": {
    "colab_type": "text",
    "id": "Gq60MoxG1n07"
   },
   "source": [
    "### 何时使用函数式API\n",
    "\n",
    "何时应该使用Keras函数式API创建新模型？或者仅直接对`Model`类进行子类化？通常情况下，函数式API相对更高级，更容易且更安全的API，并且具有许多子类化模型不支持的特性。\n",
    "\n",
    "然而，当构建不容易表示为有向无环图的模型时，模型子类化提供了更大的灵活性。例如，你无法使用函数式API来实现`Tree-RNN`，而必须直接继承`Model`。\n",
    "\n",
    "要深入了解函数式API和模型子类化之间的区别，请参阅[TensorFlow2.0中，什么是符号API和命令式API](https://blog.tensorflow.org/2019/01/what-are-symbolic-and-imperative-apis.html)。\n",
    "\n",
    "#### 函数式API的优势\n",
    "\n",
    "以下性质对于Sequential模型(也是数据结构)也适用，但对于子类化模型(Python字节码而非数据结构)则不适用。\n",
    "\n",
    "**不太冗长**\n",
    "\n",
    "函数式API没有`super(MyClass, self).__init__(...)`以及`def call(self, ...):`等。\n",
    "\n",
    "下面我们来对两者进行对比，首先是函数式API："
   ]
  },
  {
   "cell_type": "code",
   "execution_count": null,
   "metadata": {
    "colab": {},
    "colab_type": "code",
    "id": "_sxwoUu_sizZ"
   },
   "outputs": [],
   "source": [
    "inputs = keras.Input(shape=(32,))\n",
    "x = layers.Dense(64, activation='relu')(inputs)\n",
    "outputs = layers.Dense(10)(x)\n",
    "mlp = keras.Model(inputs, outputs)"
   ]
  },
  {
   "cell_type": "markdown",
   "metadata": {
    "colab_type": "text",
    "id": "55gI3-6Awm-x"
   },
   "source": [
    "下面是子类化的版本："
   ]
  },
  {
   "cell_type": "code",
   "execution_count": null,
   "metadata": {
    "colab": {},
    "colab_type": "code",
    "id": "Rd1dO0kIwx3w"
   },
   "outputs": [],
   "source": [
    "class MLP(keras.Model):\n",
    "\n",
    "  def __init__(self, **kwargs):\n",
    "    super(MLP, self).__init__(**kwargs)\n",
    "    self.dense_1 = layers.Dense(64, activation='relu')\n",
    "    self.dense_2 = layers.Dense(10)\n",
    "\n",
    "  def call(self, inputs):\n",
    "    x = self.dense_1(inputs)\n",
    "    return self.dense_2(x)\n",
    "\n",
    "# 实例化模型\n",
    "mlp = MLP()\n",
    "# 需要创建模型状态\n",
    "# 在第一次调用之前，该模型没有状态\n",
    "_ = mlp(tf.zeros((1, 32)))"
   ]
  },
  {
   "cell_type": "markdown",
   "metadata": {
    "colab_type": "text",
    "id": "3jHFPJ47xVoF"
   },
   "source": [
    "**定义连接图时进行模型验证**\n",
    "\n",
    "在函数式API中，输入规范(shape和dtype)是预先创建的(使用Input)。每次调用层时，该层都会检查传递给它的规范是否符合其预期，如果不符合，它将触发有用的错误消息。\n",
    "\n",
    "这样可以保证使用函数式API构建的任何模型都可以运行。除与收敛有关的调试外，所有调试均在模型构建过程中静态地进行，而不是在执行时进行。这类似于编译器中的类型检查。\n",
    "\n",
    "**函数式模型是可绘制和可检查的**\n",
    "\n",
    "你可以将模型绘制为图形，并且可以轻松访问此图形中的中间节点。例如，要提取并重用中间层的激活(如前面的示例所示)："
   ]
  },
  {
   "cell_type": "code",
   "execution_count": null,
   "metadata": {
    "colab": {},
    "colab_type": "code",
    "id": "c_7tUHaj19AM"
   },
   "outputs": [],
   "source": [
    "features_list = [layer.output for layer in vgg19.layers]\n",
    "feat_extraction_model = keras.Model(inputs=vgg19.input, outputs=features_list)"
   ]
  },
  {
   "cell_type": "markdown",
   "metadata": {
    "colab_type": "text",
    "id": "9jH6Qy2O2CoD"
   },
   "source": [
    "**函数式模型可以序列化或克隆**\n",
    "\n",
    "因为函数式模型是数据结构而不是一段代码，所以它可以安全地序列化，并且可以保存为单个文件，从而使得你可以重新创建完全相同的模型，而无需访问任何原始代码。请参阅[序列化和保存](https://tensorflow.google.cn/guide/keras/save_and_serialize/)指南。\n",
    "\n",
    "要序列化子类化的模型，需要在实现的类中实现指定`get_config()`和`from_config()`方法。\n",
    "\n",
    "#### 函数式API的缺点：\n",
    "\n",
    "**它不支持动态架构**\n",
    "\n",
    "函数式API将模型视为层的有向无环图(DAG)。对于大多数深度学习架构而言，这是正确的，但并非所有情况都是如此。例如，递归网络或Tree RNN不遵循此假设，并且无法在函数式API中实现。\n",
    "\n",
    "### 混搭API风格\n",
    "\n",
    "值得注意的是，在函数式API或模型子类化之间进行选择，并不是将你限制在这两种选择的二选一中。 tf.kerasAPI中的所有模型都可以彼此交互，无论它们是`Sequential`模型，函数式模型还是自定义的子类化模型。\n",
    "\n",
    "你始终可以将函数式模型或`Sequential`模型用作子类化模型或层的一部分："
   ]
  },
  {
   "cell_type": "code",
   "execution_count": null,
   "metadata": {
    "colab": {},
    "colab_type": "code",
    "id": "WRHkp7eE4gq0"
   },
   "outputs": [],
   "source": [
    "units = 32\n",
    "timesteps = 10\n",
    "input_dim = 5\n",
    "\n",
    "# 定义函数式模型\n",
    "inputs = keras.Input((None, units))  # 不知道序列长度\n",
    "x = layers.GlobalAveragePooling1D()(inputs)\n",
    "outputs = layers.Dense(1)(x)\n",
    "model = keras.Model(inputs, outputs)\n",
    "\n",
    "\n",
    "class CustomRNN(layers.Layer):\n",
    "    def __init__(self):\n",
    "        super(CustomRNN, self).__init__()\n",
    "        self.units = units\n",
    "        self.projection_1 = layers.Dense(units=units, activation=\"tanh\")\n",
    "        self.projection_2 = layers.Dense(units=units, activation=\"tanh\")\n",
    "        # 使用前面定义的函数式模型\n",
    "        self.classifier = model\n",
    "\n",
    "    def call(self, inputs):\n",
    "        outputs = []\n",
    "        state = tf.zeros(shape=(inputs.shape[0], self.units))\n",
    "        for t in range(inputs.shape[1]):  # 对每一步\n",
    "            x = inputs[:, t, :]  # 当前步的批\n",
    "            h = self.projection_1(x)\n",
    "            y = h + self.projection_2(state)\n",
    "            state = y\n",
    "            outputs.append(y)  # 当前步输出\n",
    "        features = tf.stack(outputs, axis=1)\n",
    "        print(features.shape)\n",
    "        return self.classifier(features)\n",
    "\n",
    "\n",
    "rnn_model = CustomRNN()\n",
    "_ = rnn_model(tf.zeros((3, timesteps, input_dim)))"
   ]
  },
  {
   "cell_type": "markdown",
   "metadata": {
    "colab_type": "text",
    "id": "tlOpB-VL5B-K"
   },
   "source": [
    "你可以在函数式API中使用任何子类化的层或模型，只要它的`call`方法遵循以下模式中的一个即可：\n",
    "\n",
    "+ `call(self，inputs，** kwargs)`--`inputs`是张量或张量的嵌套结构(例如张量列表)，而`** kwarg`是非张量参数(非输入)。\n",
    "\n",
    "+ `call(self，inputs，training = None，** kwargs)`--其中`training`是一个布尔值，指示该层是否应在训练模式和预测模式下运行。\n",
    "+ `call(self，inputs，mask = None，** kwargs)`--其中`mask`是一个布尔值的掩码张量（例如，它对RNN有用）。\n",
    "\n",
    "+ `call(self, inputs, training=None, mask=None, **kwargs)`--当然，你可以同时具有掩码和特定训练的模式。\n",
    "\n",
    "此外，如果在自定义层或模型上实现`get_config`方法，则创建的函数式模型仍将可序列化和克隆。\n",
    "\n",
    "下面展示在函数式模型中，使用的从头开始编写的自定义RNN示例："
   ]
  },
  {
   "cell_type": "code",
   "execution_count": null,
   "metadata": {
    "colab": {},
    "colab_type": "code",
    "id": "JQfUZeLK6-uT"
   },
   "outputs": [],
   "source": [
    "units = 32\n",
    "timesteps = 10\n",
    "input_dim = 5\n",
    "batch_size = 16\n",
    "\n",
    "class CustomRNN(layers.Layer):\n",
    "    def __init__(self):\n",
    "        super(CustomRNN, self).__init__()\n",
    "        self.units = units\n",
    "        self.projection_1 = layers.Dense(units=units, activation=\"tanh\")\n",
    "        self.projection_2 = layers.Dense(units=units, activation=\"tanh\")\n",
    "        self.classifier = layers.Dense(1)\n",
    "\n",
    "    def call(self, inputs):\n",
    "        outputs = []\n",
    "        state = tf.zeros(shape=(inputs.shape[0], self.units))\n",
    "        for t in range(inputs.shape[1]):\n",
    "            x = inputs[:, t, :]\n",
    "            h = self.projection_1(x)\n",
    "            y = h + self.projection_2(state)\n",
    "            state = y\n",
    "            outputs.append(y)\n",
    "        features = tf.stack(outputs, axis=1)\n",
    "        return self.classifier(features)\n",
    "\n",
    "\n",
    "# 通过batch_shape参数指定静态批大小，因为CustomRNN的内部计算需要\n",
    "# 静态批大小（当你创建state零张量时）\n",
    "inputs = keras.Input(batch_shape=(batch_size, timesteps, input_dim))\n",
    "x = layers.Conv1D(32, 3)(inputs)\n",
    "outputs = CustomRNN()(x)\n",
    "\n",
    "model = keras.Model(inputs, outputs)\n",
    "\n",
    "rnn_model = CustomRNN()\n",
    "ret = rnn_model(tf.zeros((3, 10, 5)))\n",
    "print(ret.shape)"
   ]
  }
 ],
 "metadata": {
  "accelerator": "GPU",
  "colab": {
   "authorship_tag": "ABX9TyMqV6Df1ekJmxVli0idXCud",
   "collapsed_sections": [],
   "name": "The Function API.ipynb",
   "provenance": []
  },
  "kernelspec": {
   "display_name": "tensorflow2",
   "language": "python",
   "name": "tensorflow2"
  },
  "language_info": {
   "codemirror_mode": {
    "name": "ipython",
    "version": 3
   },
   "file_extension": ".py",
   "mimetype": "text/x-python",
   "name": "python",
   "nbconvert_exporter": "python",
   "pygments_lexer": "ipython3",
   "version": "3.7.6"
  }
 },
 "nbformat": 4,
 "nbformat_minor": 1
}
