{
 "cells": [
  {
   "cell_type": "markdown",
   "metadata": {
    "id": "6xgB0Oz5eGSQ"
   },
   "source": [
    "# 图和函数简介"
   ]
  },
  {
   "cell_type": "markdown",
   "metadata": {
    "id": "RBKqnXI9GOax"
   },
   "source": [
    "## 概述\n",
    "\n",
    "本指南深入TensorFlow和Keras的知识面，看看TensorFlow是如何工作的。如果你想立即开始学习Keras，请参阅我们的Keras指南部分。\n",
    "\n",
    "在本指南中，您将看到TensorFlow如何允许您对代码进行简单更改以获得计算图，以及如何存储和表示计算图，以及如何使用它们来加速和导出模型。\n",
    "\n",
    "注意:对于那些只熟悉TensorFlow 1.x的同学，本指南演示了一个非常不同的计算图视图。\n",
    "这是一个简短的介绍;有关这些概念的完整介绍，请参阅[the tf.function guide](https://tensorflow.google.cn/guide/function)。"
   ]
  },
  {
   "cell_type": "markdown",
   "metadata": {
    "id": "v0DdlfacAdTZ"
   },
   "source": [
    "### 计算图是什么?\n",
    "\n",
    "在前三部分指南中，您已经看到TensorFlow即刻运行（Excute Eagerly）。这意味着TensorFlow操作由Python执行，一个操作接着一个操作的执行，然后将结果返回给Python。Eager TensorFlow利用了gpu的优势，允许您在gpu和TPUs上放置变量、张量，甚至操作。它也很容易调试。\n",
    "\n",
    "对于某些用户，您可能永远不需要或不想离开Python。\n",
    "\n",
    "但是，在Python中运行TensorFlow一个接一个的操作会阻止大量其他可用的加速。如果你能从Python中提取出张量计算，你就能把它们做成图。\n",
    "\n",
    "**计算图是一种数据结构，它包含一组操作对象（表示计算单位）和张量对象（表示在操作之间流动的数据）。它们被定义为tf.Graph context。由于这些图是数据结构，所以可以在不使用原始Python代码的情况下保存、运行和恢复它们。**\n",
    "\n",
    "这就是一个简单的两层图在TensorBoard中显示的样子。"
   ]
  },
  {
   "cell_type": "markdown",
   "metadata": {
    "id": "FvQ5aBuRGT1o"
   },
   "source": [
    "![a two-layer tensorflow graph](\t\n",
    "https://storage.cloud.google.com/tensorflow.org/images/two-layer-network.png)"
   ]
  },
  {
   "cell_type": "markdown",
   "metadata": {
    "id": "DHpY3avXGITP"
   },
   "source": [
    "### 计算图的好处\n",
    "\n",
    "有了计算图，您就有了很大的灵活性。您可以在没有Python解释器的环境中使用TensorFlow图，比如移动应用程序、嵌入式设备和后端服务器。当从Python导出模型时，TensorFlow使用计算图作为保存模型的格式。\n",
    "\n",
    "计算图也很容易优化，允许编译器做像这样的转换:\n",
    "\n",
    "* 通过在计算中折叠常数节点(“常数折叠”)来静态地推断张量的值。\n",
    "* 计算的独立子部分，并在线程或设备之间分割它们。\n",
    "* 通过消除公共子表达式来简化算术运算。\n"
   ]
  },
  {
   "cell_type": "markdown",
   "metadata": {
    "id": "o1x1EOD9GjnB"
   },
   "source": [
    "有一个完整的优化系统Grappler执行这个和其他加速。\n",
    "\n",
    "简而言之，计算图非常有用，它可以让您的TensorFlow快速运行、并行运行并在多个设备上高效运行。\n",
    "\n",
    "但是，为了方便起见，您仍然希望用Python定义我们的机器学习模型(或其他计算)，然后在需要时自动构造图。"
   ]
  },
  {
   "cell_type": "markdown",
   "metadata": {
    "id": "pSZebVuWxDXu"
   },
   "source": [
    "## 跟踪图（Tracing graphs）\n",
    "\n",
    "在TensorFlow中创建图形的方法是使用tf.function，可以作为直接调用，也可以作为装饰器。"
   ]
  },
  {
   "cell_type": "code",
   "execution_count": null,
   "metadata": {
    "execution": {
     "iopub.execute_input": "2020-11-04T02:22:04.014005Z",
     "iopub.status.busy": "2020-11-04T02:22:04.012950Z",
     "iopub.status.idle": "2020-11-04T02:22:10.490204Z",
     "shell.execute_reply": "2020-11-04T02:22:10.489585Z"
    },
    "id": "goZwOXp_xyQj"
   },
   "outputs": [],
   "source": [
    "import tensorflow as tf\n",
    "import timeit\n",
    "from datetime import datetime"
   ]
  },
  {
   "cell_type": "code",
   "execution_count": null,
   "metadata": {
    "execution": {
     "iopub.execute_input": "2020-11-04T02:22:18.620380Z",
     "iopub.status.busy": "2020-11-04T02:22:18.618424Z",
     "iopub.status.idle": "2020-11-04T02:22:19.246960Z",
     "shell.execute_reply": "2020-11-04T02:22:19.247443Z"
    },
    "id": "HKbLeJ1y0Umi"
   },
   "outputs": [],
   "source": [
    "# 定义Python函数\n",
    "def function_to_get_faster(x, y, b):\n",
    "  x = tf.matmul(x, y)\n",
    "  x = x + b\n",
    "  return x\n",
    "\n",
    "# 创建一个包含计算图的函数对象\n",
    "a_function_that_uses_a_graph = tf.function(function_to_get_faster)\n",
    "\n",
    "# 创建一些张量\n",
    "x1 = tf.constant([[1.0, 2.0]])\n",
    "y1 = tf.constant([[2.0], [3.0]])\n",
    "b1 = tf.constant(4.0)\n",
    "\n",
    "# It just works!\n",
    "a_function_that_uses_a_graph(x1, y1, b1).numpy()"
   ]
  },
  {
   "cell_type": "markdown",
   "metadata": {
    "id": "MT7U8ozok0gV"
   },
   "source": [
    "`tf.function`-ized 函数是Python可调用函数，其工作原理与Python的等价函数相同。它们有一个特定的类(python.eager.def_function.Function)，但对您来说，它们就像未跟踪版本一样。\n",
    "\n",
    "`tf.function` 递归地跟踪它调用的任何Python函数。"
   ]
  },
  {
   "cell_type": "code",
   "execution_count": null,
   "metadata": {
    "execution": {
     "iopub.execute_input": "2020-11-04T02:22:19.264432Z",
     "iopub.status.busy": "2020-11-04T02:22:19.254259Z",
     "iopub.status.idle": "2020-11-04T02:22:19.326934Z",
     "shell.execute_reply": "2020-11-04T02:22:19.327344Z"
    },
    "id": "rpz08iLplm9F"
   },
   "outputs": [],
   "source": [
    "def inner_function(x, y, b):\n",
    "  x = tf.matmul(x, y)\n",
    "  x = x + b\n",
    "  return x\n",
    "\n",
    "# 使用装饰器\n",
    "@tf.function\n",
    "def outer_function(x):\n",
    "  y = tf.constant([[2.0], [3.0]])\n",
    "  b = tf.constant(4.0)\n",
    "\n",
    "  return inner_function(x, y, b)\n",
    "\n",
    "# 函数调用将创建包括inner_function()和outer_function()的计算图\n",
    "outer_function(tf.constant([[1.0, 2.0]])).numpy()"
   ]
  },
  {
   "cell_type": "markdown",
   "metadata": {
    "id": "P88fOr88qgCj"
   },
   "source": [
    "如果你用过TensorFlow 1.x，您将注意到在任何时候都不需要定义占位符或tf.Sesssion。"
   ]
  },
  {
   "cell_type": "markdown",
   "metadata": {
    "id": "wfeKf0Nr1OEK"
   },
   "source": [
    "### 流控制和副作用（Flow control and side effects）\n",
    "\n",
    "流程控制和循环通常通过默认方法tf.autograph转换为Tensorflow。Autograph使用了一组方法，包括标准化循环构造、展开和AST（Abstract Syntax Trees，抽象语法树）操作。"
   ]
  },
  {
   "cell_type": "code",
   "execution_count": null,
   "metadata": {
    "execution": {
     "iopub.execute_input": "2020-11-04T02:22:19.341970Z",
     "iopub.status.busy": "2020-11-04T02:22:19.333308Z",
     "iopub.status.idle": "2020-11-04T02:22:19.419635Z",
     "shell.execute_reply": "2020-11-04T02:22:19.418993Z"
    },
    "id": "PFObpff1BMEb"
   },
   "outputs": [],
   "source": [
    "def my_function(x):\n",
    "  if tf.reduce_sum(x) <= 1:\n",
    "    return x * x\n",
    "  else:\n",
    "    return x-1\n",
    "\n",
    "a_function = tf.function(my_function)\n",
    "\n",
    "print(\"First branch, with graph:\", a_function(tf.constant(1.0)).numpy())\n",
    "print(\"Second branch, with graph:\", a_function(tf.constant([5.0, 5.0])).numpy())"
   ]
  },
  {
   "cell_type": "markdown",
   "metadata": {
    "id": "hO4DBUNZBMwQ"
   },
   "source": [
    "您可以直接调用Autograph转换来查看Python是如何转换为TensorFlow操作的。  这大部分是不可读的，但您可以看到转换。"
   ]
  },
  {
   "cell_type": "code",
   "execution_count": null,
   "metadata": {
    "execution": {
     "iopub.execute_input": "2020-11-04T02:22:19.425347Z",
     "iopub.status.busy": "2020-11-04T02:22:19.424700Z",
     "iopub.status.idle": "2020-11-04T02:22:19.427914Z",
     "shell.execute_reply": "2020-11-04T02:22:19.427346Z"
    },
    "id": "8x6RAqza1UWf"
   },
   "outputs": [],
   "source": [
    "# 不要太在意输出\n",
    "print(tf.autograph.to_code(my_function))"
   ]
  },
  {
   "cell_type": "markdown",
   "metadata": {
    "id": "GZ4Ieg6tBE6l"
   },
   "source": [
    "Autograph自动转换if-then子句、循环、break、return、continue等。\n",
    "\n",
    "大多数的时候, Autograph工作的时候不会有特别的考虑。然而有些说明和[tf.function guide]以及[complete autograph reference]可以帮助到你。"
   ]
  },
  {
   "cell_type": "markdown",
   "metadata": {
    "id": "A6NHDp7vAKcJ"
   },
   "source": [
    "### 看到速度的加快（Seeing the speed up）\n",
    "\n",
    "在tf.function只是包装一个使用张量的函数并不能加速代码的运行，对于在一台机器上多次调用的小函数，调用一个图形或图形片段的开销可能会占用大多数运行时间。此外，如果大部分计算已经在加速器上进行，比如大量的gpu卷积，图形加速就不会很明显。\n",
    "\n",
    "对于复杂的计算，图形可以提供显著的加速。这是因为图减少了python与设备的通信，并执行了一些加速操作。\n",
    "\n",
    "这段代码在一些密集层上运行了几次，并统计了不同情况下的运行时间。"
   ]
  },
  {
   "cell_type": "code",
   "execution_count": null,
   "metadata": {
    "execution": {
     "iopub.execute_input": "2020-11-04T02:22:19.436315Z",
     "iopub.status.busy": "2020-11-04T02:22:19.435659Z",
     "iopub.status.idle": "2020-11-04T02:22:27.828243Z",
     "shell.execute_reply": "2020-11-04T02:22:27.827723Z"
    },
    "id": "zbNndv-0BeO4"
   },
   "outputs": [],
   "source": [
    "# 分类图片的模型\n",
    "class SequentialModel(tf.keras.Model):\n",
    "  def __init__(self, **kwargs):\n",
    "    super(SequentialModel, self).__init__(**kwargs)\n",
    "    self.flatten = tf.keras.layers.Flatten(input_shape=(28, 28))\n",
    "    self.dense_1 = tf.keras.layers.Dense(128, activation=\"relu\")\n",
    "    self.dropout = tf.keras.layers.Dropout(0.2)\n",
    "    self.dense_2 = tf.keras.layers.Dense(10)\n",
    "\n",
    "  def call(self, x):\n",
    "    x = self.flatten(x)\n",
    "    x = self.dense_1(x)\n",
    "    x = self.dropout(x)\n",
    "    x = self.dense_2(x)\n",
    "    return x\n",
    "\n",
    "input_data = tf.random.uniform([60, 28, 28])\n",
    "\n",
    "eager_model = SequentialModel()\n",
    "graph_model = tf.function(eager_model)\n",
    "\n",
    "print(\"Eager time:\", timeit.timeit(lambda: eager_model(input_data), number=10000))\n",
    "print(\"Graph time:\", timeit.timeit(lambda: graph_model(input_data), number=10000))\n"
   ]
  },
  {
   "cell_type": "markdown",
   "metadata": {
    "id": "sIpc_jfjEZEg"
   },
   "source": [
    "### 多态函数（Polymorphic functions）\n",
    "\n",
    "跟踪一个函数时，将创建一个多态的**函数**对象。多态函数是一种Python可调用函数，它在一个API后面封装了几个具体的函数图。\n",
    "\n",
    "您可以在所有不同类型的dtype和形状上使用此**函数**。每次使用新的参数签名调用它时，原始函数将使用新的参数重新跟踪。  然后该**函数**存储对应于**concrete_function**中跟踪的tf.graph。如果函数已经被这种参数跟踪过了，你就得到了你的预跟踪的图。\n",
    "\n",
    "然后，从概念上讲:\n",
    "* 一个**tf.Graph**是描述计算的原始的、可移植的数据结构\n",
    "* **函数**对ConcreteFunctions进行缓存，跟踪和调度\n",
    "* **ConcreteFunction**是一个与eager excution兼容的图包装器，它允许您从Python执行计算图"
   ]
  },
  {
   "cell_type": "markdown",
   "metadata": {
    "id": "kNGuLnjK1c5U"
   },
   "source": [
    "\n",
    "\n",
    "### 检查多态函数（Inspecting polymorphic functions）\n",
    "\n",
    "您可以检查`a_function`，它是在Python函数的`my_function`中调用tf.function的结果。在本例中，使用三种参数调用`a_function`会产生三个不同的具体函数。"
   ]
  },
  {
   "cell_type": "code",
   "execution_count": null,
   "metadata": {
    "execution": {
     "iopub.execute_input": "2020-11-04T02:22:27.836375Z",
     "iopub.status.busy": "2020-11-04T02:22:27.833717Z",
     "iopub.status.idle": "2020-11-04T02:22:27.880443Z",
     "shell.execute_reply": "2020-11-04T02:22:27.880882Z"
    },
    "id": "7heuYuwn2edE"
   },
   "outputs": [],
   "source": [
    "print(a_function)\n",
    "\n",
    "print(\"Calling a `Function`:\")\n",
    "print(\"Int:\", a_function(tf.constant(2)))\n",
    "print(\"Float:\", a_function(tf.constant(2.0)))\n",
    "print(\"Rank-1 tensor of floats\", a_function(tf.constant([2.0, 2.0, 2.0])))"
   ]
  },
  {
   "cell_type": "code",
   "execution_count": null,
   "metadata": {
    "execution": {
     "iopub.execute_input": "2020-11-04T02:22:27.886929Z",
     "iopub.status.busy": "2020-11-04T02:22:27.886282Z",
     "iopub.status.idle": "2020-11-04T02:22:27.902513Z",
     "shell.execute_reply": "2020-11-04T02:22:27.901913Z"
    },
    "id": "s1c8db0cCW2k"
   },
   "outputs": [],
   "source": [
    "# 获得工作在实数上的具体函数\n",
    "print(\"Inspecting concrete functions\")\n",
    "print(\"Concrete function for float:\")\n",
    "print(a_function.get_concrete_function(tf.TensorSpec(shape=[], dtype=tf.float32)))\n",
    "print(\"Concrete function for tensor of floats:\")\n",
    "print(a_function.get_concrete_function(tf.constant([2.0, 2.0, 2.0])))\n"
   ]
  },
  {
   "cell_type": "code",
   "execution_count": null,
   "metadata": {
    "execution": {
     "iopub.execute_input": "2020-11-04T02:22:27.906994Z",
     "iopub.status.busy": "2020-11-04T02:22:27.906242Z",
     "iopub.status.idle": "2020-11-04T02:22:27.909700Z",
     "shell.execute_reply": "2020-11-04T02:22:27.909110Z"
    },
    "id": "JLTNuv_CCZXK"
   },
   "outputs": [],
   "source": [
    "# 具体函数是可调用的\n",
    "# 注意：你一般不需要这样做，你应调用包含的函数\n",
    "cf = a_function.get_concrete_function(tf.constant(2))\n",
    "print(\"Directly calling a concrete function:\", cf(tf.constant(2)))"
   ]
  },
  {
   "cell_type": "markdown",
   "metadata": {
    "id": "PTHNiHLXH9es"
   },
   "source": [
    "在这个示例中，您看到的是堆栈中相当深入的部分。除非您专门管理跟踪，否则通常不需要直接调用此处所示的具体函数"
   ]
  },
  {
   "cell_type": "markdown",
   "metadata": {
    "id": "V11zkxU22XeD"
   },
   "source": [
    "## 重新回到即刻执行（Reverting to eager execution）\n",
    "\n",
    "您可能会发现自己正在查看长长的堆栈跟踪，特别是那些引用tf.Graph()或tf.Graph().as_default()的堆栈跟踪。这意味着您可能是在一个计算图上下文中运行。TensorFlow中的核心函数使用计算图上下文，比如Keras的model.fit()。\n",
    "\n",
    "调试即刻执行通常要容易得多。堆栈跟踪应该相对简短并且容易理解。\n",
    "\n",
    "在图使调试变得棘手的情况下，您可以恢复到使用即刻执行进行调试。\n",
    "\n",
    "这里有一些方法，你可以确保你可以快速地运行:\n",
    "\n",
    "* 直接将模型和层作为可调用对象调用\n",
    "\n",
    "* 当使用Keras compile/fit时，在编译时使用model.compile(run_eagerly=True)\n",
    "\n",
    "* 通过 tf.config.run_functions_eagerly(True)设置全局执行模式\n"
   ]
  },
  {
   "cell_type": "markdown",
   "metadata": {
    "id": "iTHvdQfRICJb"
   },
   "source": [
    "### 使用`run_eagerly=True`"
   ]
  },
  {
   "cell_type": "code",
   "execution_count": null,
   "metadata": {
    "execution": {
     "iopub.execute_input": "2020-11-04T02:22:27.915135Z",
     "iopub.status.busy": "2020-11-04T02:22:27.914432Z",
     "iopub.status.idle": "2020-11-04T02:22:27.916403Z",
     "shell.execute_reply": "2020-11-04T02:22:27.916824Z"
    },
    "id": "kqzBV2rSzvpC"
   },
   "outputs": [],
   "source": [
    "# 定义一个恒等层，它具有eager副作用\n",
    "class EagerLayer(tf.keras.layers.Layer):\n",
    "  def __init__(self, **kwargs):\n",
    "    super(EagerLayer, self).__init__(**kwargs)\n",
    "    # Do some kind of initialization here\n",
    "\n",
    "  def call(self, inputs):\n",
    "    print(\"\\nCurrently running eagerly\", str(datetime.now()))\n",
    "    return inputs"
   ]
  },
  {
   "cell_type": "code",
   "execution_count": null,
   "metadata": {
    "execution": {
     "iopub.execute_input": "2020-11-04T02:22:27.926069Z",
     "iopub.status.busy": "2020-11-04T02:22:27.925329Z",
     "iopub.status.idle": "2020-11-04T02:22:27.935167Z",
     "shell.execute_reply": "2020-11-04T02:22:27.934678Z"
    },
    "id": "5DFvc9ySr7t3"
   },
   "outputs": [],
   "source": [
    "# 创建一个新的模型对图像分类，它包含定制层\n",
    "class SequentialModel(tf.keras.Model):\n",
    "  def __init__(self):\n",
    "    super(SequentialModel, self).__init__()\n",
    "    self.flatten = tf.keras.layers.Flatten(input_shape=(28, 28))\n",
    "    self.dense_1 = tf.keras.layers.Dense(128, activation=\"relu\")\n",
    "    self.dropout = tf.keras.layers.Dropout(0.2)\n",
    "    self.dense_2 = tf.keras.layers.Dense(10)\n",
    "    self.eager = EagerLayer()\n",
    "\n",
    "  def call(self, x):\n",
    "    x = self.flatten(x)\n",
    "    x = self.dense_1(x)\n",
    "    x = self.dropout(x)\n",
    "    x = self.dense_2(x)\n",
    "    return self.eager(x)\n",
    "\n",
    "# 创建模型实例\n",
    "model = SequentialModel()\n",
    "\n",
    "# 产生一些无意义的图像和标签\n",
    "input_data = tf.random.uniform([60, 28, 28])\n",
    "labels = tf.random.uniform([60])\n",
    "\n",
    "loss_fn = tf.keras.losses.SparseCategoricalCrossentropy(from_logits=True)"
   ]
  },
  {
   "cell_type": "markdown",
   "metadata": {
    "id": "U3-hcwmpI3Sv"
   },
   "source": [
    "首先，不采用即刻执行编译模型。注意，模型没有被跟踪;`compile`只设置损失函数、优化器和其他训练参数。"
   ]
  },
  {
   "cell_type": "code",
   "execution_count": null,
   "metadata": {
    "execution": {
     "iopub.execute_input": "2020-11-04T02:22:27.946915Z",
     "iopub.status.busy": "2020-11-04T02:22:27.946155Z",
     "iopub.status.idle": "2020-11-04T02:22:27.956310Z",
     "shell.execute_reply": "2020-11-04T02:22:27.955763Z"
    },
    "id": "w2GdwhB_KQlw"
   },
   "outputs": [],
   "source": [
    "model.compile(run_eagerly=False, loss=loss_fn)"
   ]
  },
  {
   "cell_type": "markdown",
   "metadata": {
    "id": "WLMXk1uxKQ44"
   },
   "source": [
    "现在，调用fit并看到该函数被跟踪(两次)，然后eager效果将不再运行。"
   ]
  },
  {
   "cell_type": "code",
   "execution_count": null,
   "metadata": {
    "execution": {
     "iopub.execute_input": "2020-11-04T02:22:27.960755Z",
     "iopub.status.busy": "2020-11-04T02:22:27.960101Z",
     "iopub.status.idle": "2020-11-04T02:22:28.400796Z",
     "shell.execute_reply": "2020-11-04T02:22:28.400189Z"
    },
    "id": "VCoLlZDythZ8"
   },
   "outputs": [],
   "source": [
    "model.fit(input_data, labels, epochs=3)"
   ]
  },
  {
   "cell_type": "markdown",
   "metadata": {
    "id": "jOk6feLOK1pR"
   },
   "source": [
    "即使你只即刻执行一轮，你也可以看到eage效果两次."
   ]
  },
  {
   "cell_type": "code",
   "execution_count": null,
   "metadata": {
    "execution": {
     "iopub.execute_input": "2020-11-04T02:22:28.406648Z",
     "iopub.status.busy": "2020-11-04T02:22:28.405943Z",
     "iopub.status.idle": "2020-11-04T02:22:28.486979Z",
     "shell.execute_reply": "2020-11-04T02:22:28.486378Z"
    },
    "id": "MGIYwrKpK06e"
   },
   "outputs": [],
   "source": [
    "print(\"Running eagerly\")\n",
    "# 使用即刻执行编码模型\n",
    "model.compile(run_eagerly=True, loss=loss_fn)\n",
    "\n",
    "model.fit(input_data, labels, epochs=1)\n"
   ]
  },
  {
   "cell_type": "markdown",
   "metadata": {
    "id": "qwq_cnc8Lwf8"
   },
   "source": [
    "### 使用 `run_functions_eagerly`\n",
    "\n",
    "你也可以在全局范围内设置每一项都可以即刻运行。这是一个绕过多态函数的跟踪函数并直接调用原始函数的开关。您可以使用它进行调试。"
   ]
  },
  {
   "cell_type": "code",
   "execution_count": null,
   "metadata": {
    "execution": {
     "iopub.execute_input": "2020-11-04T02:22:28.496039Z",
     "iopub.status.busy": "2020-11-04T02:22:28.492486Z",
     "iopub.status.idle": "2020-11-04T02:22:28.512178Z",
     "shell.execute_reply": "2020-11-04T02:22:28.511574Z"
    },
    "id": "oFSxRtcptYpe"
   },
   "outputs": [],
   "source": [
    "# 现在，全局设置即刻执行\n",
    "tf.config.run_functions_eagerly(True)\n",
    "print(\"Run all functions eagerly.\")\n",
    "\n",
    "# 创建一个多态函数\n",
    "polymorphic_function = tf.function(model)\n",
    "\n",
    "print(\"Tracing\")\n",
    "# 这实际上在跟踪函数\n",
    "print(polymorphic_function.get_concrete_function(input_data))\n",
    "\n",
    "print(\"\\nCalling twice eagerly\")\n",
    "# 当你再次运行函数时，由于函数即刻执行，你将看到2次效果\n",
    "result = polymorphic_function(input_data)\n",
    "result = polymorphic_function(input_data)"
   ]
  },
  {
   "cell_type": "code",
   "execution_count": null,
   "metadata": {
    "execution": {
     "iopub.execute_input": "2020-11-04T02:22:28.516325Z",
     "iopub.status.busy": "2020-11-04T02:22:28.515670Z",
     "iopub.status.idle": "2020-11-04T02:22:28.518621Z",
     "shell.execute_reply": "2020-11-04T02:22:28.518031Z"
    },
    "id": "pD-AQxEhua4E"
   },
   "outputs": [],
   "source": [
    "# 别忘了关闭即刻执行\n",
    "tf.config.experimental_run_functions_eagerly(False)"
   ]
  },
  {
   "cell_type": "markdown",
   "metadata": {
    "id": "sm0bNFp8PX53"
   },
   "source": [
    "## 跟踪和性能（Tracing and performance）\n",
    "\n",
    "跟踪会带来一些开销。虽然跟踪小功能很快，但大型模型可能需要明显的长时间来跟踪。这种投资通常会很快得到回报，带来性能提升，但要意识到，任何大型模型训练的前几个阶段都可能由于跟踪而变慢。\n",
    "\n",
    "无论您的模型有多大，您都希望避免频繁跟踪。 这部分的[tf的函数指南](https://tensorflow.google.cn/guide/function#when_to_retrace)讨论了如何设置输入规格和使用张量参数来避免重跟踪retracing。 如果您发现性能异常差，最好检查一下是否不小心进行了重跟踪。\n",
    "\n",
    "您可以添加一个eager-only的效果(比如打印Python参数)，这样就可以看到跟踪函数的时间。在这里，您可以看到额外的重跟踪，因为新的Python参数总是触发重跟踪。"
   ]
  },
  {
   "cell_type": "code",
   "execution_count": null,
   "metadata": {
    "execution": {
     "iopub.execute_input": "2020-11-04T02:22:28.524817Z",
     "iopub.status.busy": "2020-11-04T02:22:28.524138Z",
     "iopub.status.idle": "2020-11-04T02:22:28.571848Z",
     "shell.execute_reply": "2020-11-04T02:22:28.571324Z"
    },
    "id": "jsGQ4GQAP2Ve"
   },
   "outputs": [],
   "source": [
    "# 使用@tf.function装饰器\n",
    "@tf.function\n",
    "def a_function_with_python_side_effect(x):\n",
    "  print(\"Tracing!\")  # This eager\n",
    "  return x * x + tf.constant(2)\n",
    "\n",
    "# 第一次跟踪\n",
    "print(a_function_with_python_side_effect(tf.constant(2)))\n",
    "\n",
    "# The second time through, you won't see the side effect\n",
    "print(a_function_with_python_side_effect(tf.constant(3)))\n",
    "\n",
    "# This retraces each time the Python argument changes,\n",
    "# as a Python argument could be an epoch count or other\n",
    "# hyperparameter\n",
    "print(a_function_with_python_side_effect(2))\n",
    "print(a_function_with_python_side_effect(3))\n"
   ]
  }
 ],
 "metadata": {
  "colab": {
   "collapsed_sections": [],
   "name": "intro_to_graphs.ipynb",
   "provenance": [],
   "toc_visible": true
  },
  "kernelspec": {
   "display_name": "py37tf2",
   "language": "python",
   "name": "py37tf2"
  },
  "language_info": {
   "codemirror_mode": {
    "name": "ipython",
    "version": 3
   },
   "file_extension": ".py",
   "mimetype": "text/x-python",
   "name": "python",
   "nbconvert_exporter": "python",
   "pygments_lexer": "ipython3",
   "version": "3.7.9"
  }
 },
 "nbformat": 4,
 "nbformat_minor": 1
}
