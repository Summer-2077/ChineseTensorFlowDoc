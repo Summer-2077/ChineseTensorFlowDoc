{
 "cells": [
  {
   "cell_type": "markdown",
   "metadata": {
    "id": "N7ITxKLUkX0v"
   },
   "source": [
    "##### Copyright 2020 The TensorFlow Authors."
   ]
  },
  {
   "cell_type": "code",
   "execution_count": 1,
   "metadata": {
    "cellView": "form",
    "execution": {
     "iopub.execute_input": "2020-11-04T02:22:04.006717Z",
     "iopub.status.busy": "2020-11-04T02:22:04.005697Z",
     "iopub.status.idle": "2020-11-04T02:22:04.008421Z",
     "shell.execute_reply": "2020-11-04T02:22:04.007911Z"
    },
    "id": "yOYx6tzSnWQ3"
   },
   "outputs": [],
   "source": [
    "#@title Licensed under the Apache License, Version 2.0 (the \"License\");\n",
    "# you may not use this file except in compliance with the License.\n",
    "# You may obtain a copy of the License at\n",
    "#\n",
    "# https://www.apache.org/licenses/LICENSE-2.0\n",
    "#\n",
    "# Unless required by applicable law or agreed to in writing, software\n",
    "# distributed under the License is distributed on an \"AS IS\" BASIS,\n",
    "# WITHOUT WARRANTIES OR CONDITIONS OF ANY KIND, either express or implied.\n",
    "# See the License for the specific language governing permissions and\n",
    "# limitations under the License."
   ]
  },
  {
   "cell_type": "markdown",
   "metadata": {
    "id": "6xgB0Oz5eGSQ"
   },
   "source": [
    "# 图和函数简介"
   ]
  },
  {
   "cell_type": "markdown",
   "metadata": {
    "id": "w4zzZVZtQb1w"
   },
   "source": [
    "<table class=\"tfo-notebook-buttons\" align=\"left\">\n",
    "  <td>\n",
    "    <a target=\"_blank\" href=\"https://www.tensorflow.org/guide/intro_to_graphs\"><img src=\"https://www.tensorflow.org/images/tf_logo_32px.png\" />View on TensorFlow.org</a>\n",
    "  </td>\n",
    "  <td>\n",
    "    <a target=\"_blank\" href=\"https://colab.research.google.com/github/tensorflow/docs/blob/master/site/en/guide/intro_to_graphs.ipynb\"><img src=\"https://www.tensorflow.org/images/colab_logo_32px.png\" />Run in Google Colab</a>\n",
    "  </td>\n",
    "  <td>\n",
    "    <a target=\"_blank\" href=\"https://github.com/tensorflow/docs/blob/master/site/en/guide/intro_to_graphs.ipynb\"><img src=\"https://www.tensorflow.org/images/GitHub-Mark-32px.png\" />View source on GitHub</a>\n",
    "  </td>\n",
    "  <td>\n",
    "    <a href=\"https://storage.googleapis.com/tensorflow_docs/docs/site/en/guide/intro_to_graphs.ipynb\"><img src=\"https://www.tensorflow.org/images/download_logo_32px.png\" />Download notebook</a>\n",
    "  </td>\n",
    "</table>"
   ]
  },
  {
   "cell_type": "markdown",
   "metadata": {
    "id": "RBKqnXI9GOax"
   },
   "source": [
    "## 综述\n",
    "本指南深入TensorFlow和Keras的知识面，看看TensorFlow是如何工作的。如果你想立即开始学习Keras，请参阅我们的Keras指南收集。\n",
    "在本指南中，您将看到TensorFlow如何允许您对代码进行简单更改以获得图形的核心内容，以及如何存储和表示图形，以及如何使用它们来加速和导出模型。\n",
    "注意:对于那些只熟悉TensorFlow 1.x的同学，本指南演示了一个非常不同的图形视图。\n",
    "这是一个简短的介绍;有关这些概念的完整介绍，请参阅 the tf.function guide。"
   ]
  },
  {
   "cell_type": "markdown",
   "metadata": {
    "id": "v0DdlfacAdTZ"
   },
   "source": [
    "### 图是什么?\n",
    "\n",
    "在前三部分指南中，您已经看到TensorFlow正在快速顺利地运行。这意味着TensorFlow操作由Python执行，一个操作接着一个操作的执行，然后将结果返回给Python。Eager TensorFlow利用了gpu的优势，允许您在gpu和TPUs上放置变量、张量，甚至操作。它也很容易调试。\n",
    "\n",
    "对于某些用户，您可能永远不需要或不想离开Python。\n",
    "\n",
    "但是，在Python中运行TensorFlow一个接一个的操作会阻止大量其他可用的加速。如果你能从Python中提取出张量计算，你就能把它们做成图。\n",
    "\n",
    "**图是包含一组操作对象，它们表示计算单位;以及张量对象，这些张量表示在操作之间流动的数据的单位。它们被定义为tf.Graph context。由于这些图是数据结构，所以可以在不使用原始Python代码的情况下保存、运行和恢复它们。\n",
    "\n",
    "这就是一个简单的两层图在TensorBoard中显示的样子。"
   ]
  },
  {
   "cell_type": "markdown",
   "metadata": {
    "id": "FvQ5aBuRGT1o"
   },
   "source": [
    "![a two-layer tensorflow graph](\t\n",
    "https://storage.cloud.google.com/tensorflow.org/images/two-layer-network.png)"
   ]
  },
  {
   "cell_type": "markdown",
   "metadata": {
    "id": "DHpY3avXGITP"
   },
   "source": [
    "### 图的好处\n",
    "\n",
    "有了图，您就有了很大的灵活性。您可以在没有Python解释器的环境中使用TensorFlow图，比如移动应用程序、嵌入式设备和后端服务器。当从Python导出模型时，TensorFlow使用图形作为保存模型的格式。\n",
    "\n",
    "图形也很容易优化，允许编译器做像这样的转换:\n",
    "\n",
    "* 通过在计算中折叠常数节点(“常数折叠”)来静态地推断张量的值。\n",
    "* 计算的独立子部分，并在线程或设备之间分割它们。\n",
    "* 通过消除公共子表达式来简化算术运算。\n"
   ]
  },
  {
   "cell_type": "markdown",
   "metadata": {
    "id": "o1x1EOD9GjnB"
   },
   "source": [
    "有一个完整的优化系统，Grappler，执行这个和其他加速。\n",
    "\n",
    "简而言之，图形非常有用，它可以让您的TensorFlow快速运行、并行运行并在多个设备上高效运行。\n",
    "\n",
    "但是，为了方便起见，您仍然希望用Python定义我们的机器学习模型(或其他计算)，然后在需要时自动构造图。"
   ]
  },
  {
   "cell_type": "markdown",
   "metadata": {
    "id": "pSZebVuWxDXu"
   },
   "source": [
    "## 跟踪图（Tracing graphs）\n",
    "\n",
    "在TensorFlow中创建图形的方法是使用tf.function，可以作为直接调用，也可以作为装饰器。"
   ]
  },
  {
   "cell_type": "code",
   "execution_count": 2,
   "metadata": {
    "execution": {
     "iopub.execute_input": "2020-11-04T02:22:04.014005Z",
     "iopub.status.busy": "2020-11-04T02:22:04.012950Z",
     "iopub.status.idle": "2020-11-04T02:22:10.490204Z",
     "shell.execute_reply": "2020-11-04T02:22:10.489585Z"
    },
    "id": "goZwOXp_xyQj"
   },
   "outputs": [],
   "source": [
    "import tensorflow as tf\n",
    "import timeit\n",
    "from datetime import datetime"
   ]
  },
  {
   "cell_type": "code",
   "execution_count": 3,
   "metadata": {
    "execution": {
     "iopub.execute_input": "2020-11-04T02:22:18.620380Z",
     "iopub.status.busy": "2020-11-04T02:22:18.618424Z",
     "iopub.status.idle": "2020-11-04T02:22:19.246960Z",
     "shell.execute_reply": "2020-11-04T02:22:19.247443Z"
    },
    "id": "HKbLeJ1y0Umi"
   },
   "outputs": [
    {
     "data": {
      "text/plain": [
       "array([[12.]], dtype=float32)"
      ]
     },
     "execution_count": 1,
     "metadata": {},
     "output_type": "execute_result"
    }
   ],
   "source": [
    "# Define a Python function\n",
    "def function_to_get_faster(x, y, b):\n",
    "  x = tf.matmul(x, y)\n",
    "  x = x + b\n",
    "  return x\n",
    "\n",
    "# Create a `Function` object that contains a graph\n",
    "a_function_that_uses_a_graph = tf.function(function_to_get_faster)\n",
    "\n",
    "# Make some tensors\n",
    "x1 = tf.constant([[1.0, 2.0]])\n",
    "y1 = tf.constant([[2.0], [3.0]])\n",
    "b1 = tf.constant(4.0)\n",
    "\n",
    "# It just works!\n",
    "a_function_that_uses_a_graph(x1, y1, b1).numpy()"
   ]
  },
  {
   "cell_type": "markdown",
   "metadata": {
    "id": "MT7U8ozok0gV"
   },
   "source": [
    "`tf.function`-ized 函数是Python可调用函数，其工作原理与Python的等价函数相同。它们有一个特定的类(python.eager.def_function.Function)，但对您来说，它们就像未跟踪版本一样。\n",
    "\n",
    "`tf.function` 递归地跟踪它调用的任何Python函数。"
   ]
  },
  {
   "cell_type": "code",
   "execution_count": 4,
   "metadata": {
    "execution": {
     "iopub.execute_input": "2020-11-04T02:22:19.264432Z",
     "iopub.status.busy": "2020-11-04T02:22:19.254259Z",
     "iopub.status.idle": "2020-11-04T02:22:19.326934Z",
     "shell.execute_reply": "2020-11-04T02:22:19.327344Z"
    },
    "id": "rpz08iLplm9F"
   },
   "outputs": [
    {
     "data": {
      "text/plain": [
       "array([[12.]], dtype=float32)"
      ]
     },
     "execution_count": 1,
     "metadata": {},
     "output_type": "execute_result"
    }
   ],
   "source": [
    "def inner_function(x, y, b):\n",
    "  x = tf.matmul(x, y)\n",
    "  x = x + b\n",
    "  return x\n",
    "\n",
    "# Use the decorator\n",
    "@tf.function\n",
    "def outer_function(x):\n",
    "  y = tf.constant([[2.0], [3.0]])\n",
    "  b = tf.constant(4.0)\n",
    "\n",
    "  return inner_function(x, y, b)\n",
    "\n",
    "# Note that the callable will create a graph that\n",
    "# includes inner_function() as well as outer_function()\n",
    "outer_function(tf.constant([[1.0, 2.0]])).numpy()"
   ]
  },
  {
   "cell_type": "markdown",
   "metadata": {
    "id": "P88fOr88qgCj"
   },
   "source": [
    "如果你用过TensorFlow 1.x，您将注意到在任何时候都不需要定义占位符或tf.Sesssion。"
   ]
  },
  {
   "cell_type": "markdown",
   "metadata": {
    "id": "wfeKf0Nr1OEK"
   },
   "source": [
    "### 流控制和副作用（Flow control and side effects）\n",
    "\n",
    "流量控制和回路通常通过默认方法tf.autograph转换为张力流。Autograph使用了一组方法，包括标准化循环构造、展开和AST操作。"
   ]
  },
  {
   "cell_type": "code",
   "execution_count": 5,
   "metadata": {
    "execution": {
     "iopub.execute_input": "2020-11-04T02:22:19.341970Z",
     "iopub.status.busy": "2020-11-04T02:22:19.333308Z",
     "iopub.status.idle": "2020-11-04T02:22:19.419635Z",
     "shell.execute_reply": "2020-11-04T02:22:19.418993Z"
    },
    "id": "PFObpff1BMEb"
   },
   "outputs": [
    {
     "name": "stdout",
     "output_type": "stream",
     "text": [
      "First branch, with graph: 1.0\n",
      "Second branch, with graph: [4. 4.]\n"
     ]
    }
   ],
   "source": [
    "def my_function(x):\n",
    "  if tf.reduce_sum(x) <= 1:\n",
    "    return x * x\n",
    "  else:\n",
    "    return x-1\n",
    "\n",
    "a_function = tf.function(my_function)\n",
    "\n",
    "print(\"First branch, with graph:\", a_function(tf.constant(1.0)).numpy())\n",
    "print(\"Second branch, with graph:\", a_function(tf.constant([5.0, 5.0])).numpy())"
   ]
  },
  {
   "cell_type": "markdown",
   "metadata": {
    "id": "hO4DBUNZBMwQ"
   },
   "source": [
    "您可以直接调用Autograph转换来查看Python是如何转换为TensorFlow操作的。  这大部分是不可读的，但您可以看到转换。"
   ]
  },
  {
   "cell_type": "code",
   "execution_count": 6,
   "metadata": {
    "execution": {
     "iopub.execute_input": "2020-11-04T02:22:19.425347Z",
     "iopub.status.busy": "2020-11-04T02:22:19.424700Z",
     "iopub.status.idle": "2020-11-04T02:22:19.427914Z",
     "shell.execute_reply": "2020-11-04T02:22:19.427346Z"
    },
    "id": "8x6RAqza1UWf"
   },
   "outputs": [
    {
     "name": "stdout",
     "output_type": "stream",
     "text": [
      "def tf__my_function(x):\n",
      "    with ag__.FunctionScope('my_function', 'fscope', ag__.ConversionOptions(recursive=True, user_requested=True, optional_features=(), internal_convert_user_code=True)) as fscope:\n",
      "        do_return = False\n",
      "        retval_ = ag__.UndefinedReturnValue()\n",
      "\n",
      "        def get_state():\n",
      "            return (retval_, do_return)\n",
      "\n",
      "        def set_state(vars_):\n",
      "            nonlocal retval_, do_return\n",
      "            (retval_, do_return) = vars_\n",
      "\n",
      "        def if_body():\n",
      "            nonlocal retval_, do_return\n",
      "            try:\n",
      "                do_return = True\n",
      "                retval_ = (ag__.ld(x) * ag__.ld(x))\n",
      "            except:\n",
      "                do_return = False\n",
      "                raise\n",
      "\n",
      "        def else_body():\n",
      "            nonlocal retval_, do_return\n",
      "            try:\n",
      "                do_return = True\n",
      "                retval_ = (ag__.ld(x) - 1)\n",
      "            except:\n",
      "                do_return = False\n",
      "                raise\n",
      "        ag__.if_stmt((ag__.converted_call(ag__.ld(tf).reduce_sum, (ag__.ld(x),), None, fscope) <= 1), if_body, else_body, get_state, set_state, ('retval_', 'do_return'), 2)\n",
      "        return fscope.ret(retval_, do_return)\n",
      "\n"
     ]
    }
   ],
   "source": [
    "# Don't read the output too carefully.\n",
    "print(tf.autograph.to_code(my_function))"
   ]
  },
  {
   "cell_type": "markdown",
   "metadata": {
    "id": "GZ4Ieg6tBE6l"
   },
   "source": [
    "Autograph自动转换if-then子句、循环、break、return、continue等。\n",
    "\n",
    "大多数的时候, Autograph工作的时候不会有特别的考虑。然而有些说明和tf.function guide以及tf.function guide可以帮助到你。"
   ]
  },
  {
   "cell_type": "markdown",
   "metadata": {
    "id": "A6NHDp7vAKcJ"
   },
   "source": [
    "### 看到速度的加快（Seeing the speed up）\n",
    "\n",
    "在tf.function只是包装一个使用张量的函数并不能加速代码的运行，对于在一台机器上多次调用的小函数，调用一个图形或图形片段的开销可能会占用大多数运行时间。此外，如果大部分计算已经在加速器上进行，比如大量的gpu卷积，图形加速就不会很明显。\n",
    "\n",
    "对于复杂的计算，图形可以提供显著的加速。这是因为图减少了python与设备的通信，并执行了一些加速操作。\n",
    "\n",
    "这段代码在一些密集层上运行了几次。"
   ]
  },
  {
   "cell_type": "code",
   "execution_count": 7,
   "metadata": {
    "execution": {
     "iopub.execute_input": "2020-11-04T02:22:19.436315Z",
     "iopub.status.busy": "2020-11-04T02:22:19.435659Z",
     "iopub.status.idle": "2020-11-04T02:22:27.828243Z",
     "shell.execute_reply": "2020-11-04T02:22:27.827723Z"
    },
    "id": "zbNndv-0BeO4"
   },
   "outputs": [
    {
     "name": "stdout",
     "output_type": "stream",
     "text": [
      "Eager time: 5.330957799000316\n"
     ]
    },
    {
     "name": "stdout",
     "output_type": "stream",
     "text": [
      "Graph time: 3.0375442899999143\n"
     ]
    }
   ],
   "source": [
    "# Create an oveerride model to classify pictures\n",
    "class SequentialModel(tf.keras.Model):\n",
    "  def __init__(self, **kwargs):\n",
    "    super(SequentialModel, self).__init__(**kwargs)\n",
    "    self.flatten = tf.keras.layers.Flatten(input_shape=(28, 28))\n",
    "    self.dense_1 = tf.keras.layers.Dense(128, activation=\"relu\")\n",
    "    self.dropout = tf.keras.layers.Dropout(0.2)\n",
    "    self.dense_2 = tf.keras.layers.Dense(10)\n",
    "\n",
    "  def call(self, x):\n",
    "    x = self.flatten(x)\n",
    "    x = self.dense_1(x)\n",
    "    x = self.dropout(x)\n",
    "    x = self.dense_2(x)\n",
    "    return x\n",
    "\n",
    "input_data = tf.random.uniform([60, 28, 28])\n",
    "\n",
    "eager_model = SequentialModel()\n",
    "graph_model = tf.function(eager_model)\n",
    "\n",
    "print(\"Eager time:\", timeit.timeit(lambda: eager_model(input_data), number=10000))\n",
    "print(\"Graph time:\", timeit.timeit(lambda: graph_model(input_data), number=10000))\n"
   ]
  },
  {
   "cell_type": "markdown",
   "metadata": {
    "id": "sIpc_jfjEZEg"
   },
   "source": [
    "### 多态函数（Polymorphic functions）\n",
    "\n",
    "跟踪一个函数时，将创建一个多态的函数对象。多态函数是一种Python可调用函数，它在一个API后面封装了几个具体的函数图。\n",
    "\n",
    "您可以在所有不同类型的dtype和形状上使用此函数。每次使用新的参数签名调用它时，原始函数将使用新的参数重新跟踪。  然后该函数存储tf.graph对应于concrete_function中的跟踪。如果函数已经被这种参数跟踪过了，你就得到了你的预跟踪图。\n",
    "\n",
    "从概念上讲,然后:\n",
    "* 一个tf.Graph是描述计算的原始的、可移植的数据结构\n",
    "* 函数是一个缓存，跟踪，调度程序在ConcreteFunctions之上\n",
    "* ConcreteFunction是一个与eager兼容的图形包装器，它允许您从Python执行图形"
   ]
  },
  {
   "cell_type": "markdown",
   "metadata": {
    "id": "kNGuLnjK1c5U"
   },
   "source": [
    "\n",
    "\n",
    "### 检查多态函数（Inspecting polymorphic functions）\n",
    "\n",
    "您可以检查a_function，它是在Python函数的my_function中调用tf.function的结果。在本例中，使用三种参数调用a_function会产生三个不同的具体函数。"
   ]
  },
  {
   "cell_type": "code",
   "execution_count": 8,
   "metadata": {
    "execution": {
     "iopub.execute_input": "2020-11-04T02:22:27.836375Z",
     "iopub.status.busy": "2020-11-04T02:22:27.833717Z",
     "iopub.status.idle": "2020-11-04T02:22:27.880443Z",
     "shell.execute_reply": "2020-11-04T02:22:27.880882Z"
    },
    "id": "7heuYuwn2edE"
   },
   "outputs": [
    {
     "name": "stdout",
     "output_type": "stream",
     "text": [
      "<tensorflow.python.eager.def_function.Function object at 0x7f7d342602b0>\n",
      "Calling a `Function`:\n",
      "Int: tf.Tensor(1, shape=(), dtype=int32)\n",
      "Float: tf.Tensor(1.0, shape=(), dtype=float32)\n",
      "Rank-1 tensor of floats tf.Tensor([1. 1. 1.], shape=(3,), dtype=float32)\n"
     ]
    }
   ],
   "source": [
    "print(a_function)\n",
    "\n",
    "print(\"Calling a `Function`:\")\n",
    "print(\"Int:\", a_function(tf.constant(2)))\n",
    "print(\"Float:\", a_function(tf.constant(2.0)))\n",
    "print(\"Rank-1 tensor of floats\", a_function(tf.constant([2.0, 2.0, 2.0])))"
   ]
  },
  {
   "cell_type": "code",
   "execution_count": 9,
   "metadata": {
    "execution": {
     "iopub.execute_input": "2020-11-04T02:22:27.886929Z",
     "iopub.status.busy": "2020-11-04T02:22:27.886282Z",
     "iopub.status.idle": "2020-11-04T02:22:27.902513Z",
     "shell.execute_reply": "2020-11-04T02:22:27.901913Z"
    },
    "id": "s1c8db0cCW2k"
   },
   "outputs": [
    {
     "name": "stdout",
     "output_type": "stream",
     "text": [
      "Inspecting concrete functions\n",
      "Concrete function for float:\n",
      "ConcreteFunction my_function(x)\n",
      "  Args:\n",
      "    x: float32 Tensor, shape=()\n",
      "  Returns:\n",
      "    float32 Tensor, shape=()\n",
      "Concrete function for tensor of floats:\n",
      "ConcreteFunction my_function(x)\n",
      "  Args:\n",
      "    x: float32 Tensor, shape=(3,)\n",
      "  Returns:\n",
      "    float32 Tensor, shape=(3,)\n"
     ]
    }
   ],
   "source": [
    "# Get the concrete function that works on floats\n",
    "print(\"Inspecting concrete functions\")\n",
    "print(\"Concrete function for float:\")\n",
    "print(a_function.get_concrete_function(tf.TensorSpec(shape=[], dtype=tf.float32)))\n",
    "print(\"Concrete function for tensor of floats:\")\n",
    "print(a_function.get_concrete_function(tf.constant([2.0, 2.0, 2.0])))\n"
   ]
  },
  {
   "cell_type": "code",
   "execution_count": 10,
   "metadata": {
    "execution": {
     "iopub.execute_input": "2020-11-04T02:22:27.906994Z",
     "iopub.status.busy": "2020-11-04T02:22:27.906242Z",
     "iopub.status.idle": "2020-11-04T02:22:27.909700Z",
     "shell.execute_reply": "2020-11-04T02:22:27.909110Z"
    },
    "id": "JLTNuv_CCZXK"
   },
   "outputs": [
    {
     "name": "stdout",
     "output_type": "stream",
     "text": [
      "Directly calling a concrete function: tf.Tensor(1, shape=(), dtype=int32)\n"
     ]
    }
   ],
   "source": [
    "# Concrete functions are callable\n",
    "# Note: You won't normally do this, but instead just call the containing `Function`\n",
    "cf = a_function.get_concrete_function(tf.constant(2))\n",
    "print(\"Directly calling a concrete function:\", cf(tf.constant(2)))"
   ]
  },
  {
   "cell_type": "markdown",
   "metadata": {
    "id": "PTHNiHLXH9es"
   },
   "source": [
    "在这个示例中，您看到的是堆栈中相当深入的部分。除非您专门管理跟踪，否则通常不需要直接调用此处所示的具体函数"
   ]
  },
  {
   "cell_type": "markdown",
   "metadata": {
    "id": "V11zkxU22XeD"
   },
   "source": [
    "## 重新回到即可执行（Reverting to eager execution）\n",
    "\n",
    "您可能会发现自己正在查看长堆栈跟踪，特别是那些引用tf.Graph()或tf.Graph().as_default()。这意味着您可能是在一个图形上下文中运行。TensorFlow中的核心函数使用图形上下文，比如Keras的model.fit()。\n",
    "\n",
    "调试即刻执行通常要容易得多。堆栈跟踪应该相对简短并且容易理解。\n",
    "\n",
    "在图使调试变得棘手的情况下，您可以恢复到使用急执行进行调试。\n",
    "\n",
    "这里有一些方法，你可以确保你可以快速地运行:\n",
    "\n",
    "* 直接将模型和层作为可调用对象调用\n",
    "\n",
    "* 当使用Keras compile/fit时，在编译时使用model.compile(run_gree= True)\n",
    "\n",
    "* 通过 tf.config.run_functions_eagerly(True)设置全局执行模式\n"
   ]
  },
  {
   "cell_type": "markdown",
   "metadata": {
    "id": "iTHvdQfRICJb"
   },
   "source": [
    "### Using `run_eagerly=True`"
   ]
  },
  {
   "cell_type": "code",
   "execution_count": 11,
   "metadata": {
    "execution": {
     "iopub.execute_input": "2020-11-04T02:22:27.915135Z",
     "iopub.status.busy": "2020-11-04T02:22:27.914432Z",
     "iopub.status.idle": "2020-11-04T02:22:27.916403Z",
     "shell.execute_reply": "2020-11-04T02:22:27.916824Z"
    },
    "id": "kqzBV2rSzvpC"
   },
   "outputs": [],
   "source": [
    "# Define an identity layer with an eager side effect\n",
    "class EagerLayer(tf.keras.layers.Layer):\n",
    "  def __init__(self, **kwargs):\n",
    "    super(EagerLayer, self).__init__(**kwargs)\n",
    "    # Do some kind of initialization here\n",
    "\n",
    "  def call(self, inputs):\n",
    "    print(\"\\nCurrently running eagerly\", str(datetime.now()))\n",
    "    return inputs"
   ]
  },
  {
   "cell_type": "code",
   "execution_count": 12,
   "metadata": {
    "execution": {
     "iopub.execute_input": "2020-11-04T02:22:27.926069Z",
     "iopub.status.busy": "2020-11-04T02:22:27.925329Z",
     "iopub.status.idle": "2020-11-04T02:22:27.935167Z",
     "shell.execute_reply": "2020-11-04T02:22:27.934678Z"
    },
    "id": "5DFvc9ySr7t3"
   },
   "outputs": [],
   "source": [
    "# Create an override model to classify pictures, adding the custom layer\n",
    "class SequentialModel(tf.keras.Model):\n",
    "  def __init__(self):\n",
    "    super(SequentialModel, self).__init__()\n",
    "    self.flatten = tf.keras.layers.Flatten(input_shape=(28, 28))\n",
    "    self.dense_1 = tf.keras.layers.Dense(128, activation=\"relu\")\n",
    "    self.dropout = tf.keras.layers.Dropout(0.2)\n",
    "    self.dense_2 = tf.keras.layers.Dense(10)\n",
    "    self.eager = EagerLayer()\n",
    "\n",
    "  def call(self, x):\n",
    "    x = self.flatten(x)\n",
    "    x = self.dense_1(x)\n",
    "    x = self.dropout(x)\n",
    "    x = self.dense_2(x)\n",
    "    return self.eager(x)\n",
    "\n",
    "# Create an instance of this model\n",
    "model = SequentialModel()\n",
    "\n",
    "# Generate some nonsense pictures and labels\n",
    "input_data = tf.random.uniform([60, 28, 28])\n",
    "labels = tf.random.uniform([60])\n",
    "\n",
    "loss_fn = tf.keras.losses.SparseCategoricalCrossentropy(from_logits=True)"
   ]
  },
  {
   "cell_type": "markdown",
   "metadata": {
    "id": "U3-hcwmpI3Sv"
   },
   "source": [
    "首先，无需急于编译模型。注意，模型没有被跟踪;尽管它的命名和编译只设置损失函数、优化和其他训练参数。"
   ]
  },
  {
   "cell_type": "code",
   "execution_count": 13,
   "metadata": {
    "execution": {
     "iopub.execute_input": "2020-11-04T02:22:27.946915Z",
     "iopub.status.busy": "2020-11-04T02:22:27.946155Z",
     "iopub.status.idle": "2020-11-04T02:22:27.956310Z",
     "shell.execute_reply": "2020-11-04T02:22:27.955763Z"
    },
    "id": "w2GdwhB_KQlw"
   },
   "outputs": [],
   "source": [
    "model.compile(run_eagerly=False, loss=loss_fn)"
   ]
  },
  {
   "cell_type": "markdown",
   "metadata": {
    "id": "WLMXk1uxKQ44"
   },
   "source": [
    "现在，调用fit并看到该函数被跟踪(两次)，然后即可效果将不再运行。"
   ]
  },
  {
   "cell_type": "code",
   "execution_count": 14,
   "metadata": {
    "execution": {
     "iopub.execute_input": "2020-11-04T02:22:27.960755Z",
     "iopub.status.busy": "2020-11-04T02:22:27.960101Z",
     "iopub.status.idle": "2020-11-04T02:22:28.400796Z",
     "shell.execute_reply": "2020-11-04T02:22:28.400189Z"
    },
    "id": "VCoLlZDythZ8"
   },
   "outputs": [
    {
     "name": "stdout",
     "output_type": "stream",
     "text": [
      "Epoch 1/3\n"
     ]
    },
    {
     "name": "stdout",
     "output_type": "stream",
     "text": [
      "\n",
      "Currently running eagerly 2020-11-04 02:22:28.114630\n"
     ]
    },
    {
     "name": "stdout",
     "output_type": "stream",
     "text": [
      "\n",
      "Currently running eagerly 2020-11-04 02:22:28.233822\n"
     ]
    },
    {
     "name": "stdout",
     "output_type": "stream",
     "text": [
      "\r",
      "1/2 [==============>...............] - ETA: 0s - loss: 1.8508"
     ]
    },
    {
     "name": "stdout",
     "output_type": "stream",
     "text": [
      "\b\b\b\b\b\b\b\b\b\b\b\b\b\b\b\b\b\b\b\b\b\b\b\b\b\b\b\b\b\b\b\b\b\b\b\b\b\b\b\b\b\b\b\b\b\b\b\b\b\b\b\b\b\b\b\b\b\b\b\b\b\r",
      "2/2 [==============================] - 0s 2ms/step - loss: 0.9890\n"
     ]
    },
    {
     "name": "stdout",
     "output_type": "stream",
     "text": [
      "Epoch 2/3\n",
      "\r",
      "1/2 [==============>...............] - ETA: 0s - loss: 0.0020"
     ]
    },
    {
     "name": "stdout",
     "output_type": "stream",
     "text": [
      "\b\b\b\b\b\b\b\b\b\b\b\b\b\b\b\b\b\b\b\b\b\b\b\b\b\b\b\b\b\b\b\b\b\b\b\b\b\b\b\b\b\b\b\b\b\b\b\b\b\b\b\b\b\b\b\b\b\b\b\b\b\r",
      "2/2 [==============================] - 0s 1ms/step - loss: 0.0017\n"
     ]
    },
    {
     "name": "stdout",
     "output_type": "stream",
     "text": [
      "Epoch 3/3\n",
      "\r",
      "1/2 [==============>...............] - ETA: 0s - loss: 7.8775e-04"
     ]
    },
    {
     "name": "stdout",
     "output_type": "stream",
     "text": [
      "\b\b\b\b\b\b\b\b\b\b\b\b\b\b\b\b\b\b\b\b\b\b\b\b\b\b\b\b\b\b\b\b\b\b\b\b\b\b\b\b\b\b\b\b\b\b\b\b\b\b\b\b\b\b\b\b\b\b\b\b\b\b\b\b\b\r",
      "2/2 [==============================] - 0s 1ms/step - loss: 5.4478e-04\n"
     ]
    },
    {
     "data": {
      "text/plain": [
       "<tensorflow.python.keras.callbacks.History at 0x7f7cb02b5e80>"
      ]
     },
     "execution_count": 1,
     "metadata": {},
     "output_type": "execute_result"
    }
   ],
   "source": [
    "model.fit(input_data, labels, epochs=3)"
   ]
  },
  {
   "cell_type": "markdown",
   "metadata": {
    "id": "jOk6feLOK1pR"
   },
   "source": [
    "If you run even a single epoch in eager, however, you can see the eager side effect twice."
   ]
  },
  {
   "cell_type": "code",
   "execution_count": 15,
   "metadata": {
    "execution": {
     "iopub.execute_input": "2020-11-04T02:22:28.406648Z",
     "iopub.status.busy": "2020-11-04T02:22:28.405943Z",
     "iopub.status.idle": "2020-11-04T02:22:28.486979Z",
     "shell.execute_reply": "2020-11-04T02:22:28.486378Z"
    },
    "id": "MGIYwrKpK06e"
   },
   "outputs": [
    {
     "name": "stdout",
     "output_type": "stream",
     "text": [
      "Running eagerly\n"
     ]
    },
    {
     "name": "stdout",
     "output_type": "stream",
     "text": [
      "\n",
      "Currently running eagerly 2020-11-04 02:22:28.449835\n",
      "\r",
      "1/2 [==============>...............] - ETA: 0s - loss: 7.8712e-04"
     ]
    },
    {
     "name": "stdout",
     "output_type": "stream",
     "text": [
      "\n",
      "Currently running eagerly 2020-11-04 02:22:28.472645\n",
      "\b\b\b\b\b\b\b\b\b\b\b\b\b\b\b\b\b\b\b\b\b\b\b\b\b\b\b\b\b\b\b\b\b\b\b\b\b\b\b\b\b\b\b\b\b\b\b\b\b\b\b\b\b\b\b\b\b\b\b\b\b\b\b\b\b\r",
      "2/2 [==============================] - 0s 6ms/step - loss: 4.1988e-04\n"
     ]
    },
    {
     "data": {
      "text/plain": [
       "<tensorflow.python.keras.callbacks.History at 0x7f7cb0230780>"
      ]
     },
     "execution_count": 1,
     "metadata": {},
     "output_type": "execute_result"
    }
   ],
   "source": [
    "print(\"Running eagerly\")\n",
    "# When compiling the model, set it to run eagerly\n",
    "model.compile(run_eagerly=True, loss=loss_fn)\n",
    "\n",
    "model.fit(input_data, labels, epochs=1)\n"
   ]
  },
  {
   "cell_type": "markdown",
   "metadata": {
    "id": "qwq_cnc8Lwf8"
   },
   "source": [
    "### Using `run_functions_eagerly`\n",
    "你也可以在全局范围内设置每一项都可以快速运行。这是一个绕过多态函数的跟踪函数并直接调用原始函数的开关。您可以使用它进行调试。"
   ]
  },
  {
   "cell_type": "code",
   "execution_count": 16,
   "metadata": {
    "execution": {
     "iopub.execute_input": "2020-11-04T02:22:28.496039Z",
     "iopub.status.busy": "2020-11-04T02:22:28.492486Z",
     "iopub.status.idle": "2020-11-04T02:22:28.512178Z",
     "shell.execute_reply": "2020-11-04T02:22:28.511574Z"
    },
    "id": "oFSxRtcptYpe"
   },
   "outputs": [
    {
     "name": "stdout",
     "output_type": "stream",
     "text": [
      "Run all functions eagerly.\n",
      "Tracing\n",
      "\n",
      "Currently running eagerly 2020-11-04 02:22:28.502694\n",
      "ConcreteFunction function(self)\n",
      "  Args:\n",
      "    self: float32 Tensor, shape=(60, 28, 28)\n",
      "  Returns:\n",
      "    float32 Tensor, shape=(60, 10)\n",
      "\n",
      "Calling twice eagerly\n",
      "\n",
      "Currently running eagerly 2020-11-04 02:22:28.507036\n",
      "\n",
      "Currently running eagerly 2020-11-04 02:22:28.508331\n"
     ]
    }
   ],
   "source": [
    "# Now, globally set everything to run eagerly\n",
    "tf.config.run_functions_eagerly(True)\n",
    "print(\"Run all functions eagerly.\")\n",
    "\n",
    "# Create a polymorphic function\n",
    "polymorphic_function = tf.function(model)\n",
    "\n",
    "print(\"Tracing\")\n",
    "# This does, in fact, trace the function\n",
    "print(polymorphic_function.get_concrete_function(input_data))\n",
    "\n",
    "print(\"\\nCalling twice eagerly\")\n",
    "# When you run the function again, you will see the side effect\n",
    "# twice, as the function is running eagerly.\n",
    "result = polymorphic_function(input_data)\n",
    "result = polymorphic_function(input_data)"
   ]
  },
  {
   "cell_type": "code",
   "execution_count": 17,
   "metadata": {
    "execution": {
     "iopub.execute_input": "2020-11-04T02:22:28.516325Z",
     "iopub.status.busy": "2020-11-04T02:22:28.515670Z",
     "iopub.status.idle": "2020-11-04T02:22:28.518621Z",
     "shell.execute_reply": "2020-11-04T02:22:28.518031Z"
    },
    "id": "pD-AQxEhua4E"
   },
   "outputs": [
    {
     "name": "stdout",
     "output_type": "stream",
     "text": [
      "WARNING:tensorflow:From <ipython-input-1-782fe9ce7b18>:2: experimental_run_functions_eagerly (from tensorflow.python.eager.def_function) is deprecated and will be removed in a future version.\n",
      "Instructions for updating:\n",
      "Use `tf.config.run_functions_eagerly` instead of the experimental version.\n"
     ]
    }
   ],
   "source": [
    "# Don't forget to set it back when you are done\n",
    "tf.config.experimental_run_functions_eagerly(False)"
   ]
  },
  {
   "cell_type": "markdown",
   "metadata": {
    "id": "sm0bNFp8PX53"
   },
   "source": [
    "## 跟踪和性能（Tracing and performance）\n",
    "\n",
    "跟踪会带来一些开销。虽然跟踪小功能很快，但大型模型可能需要明显的长时间来跟踪。这种投资通常会很快得到回报，带来性能提升，但要意识到，任何大型模型训练的前几个阶段都可能由于跟踪而变慢。\n",
    "\n",
    "无论您的模型有多大，您都希望避免频繁跟踪。 这部分的tf的函数指南讨论了如何设置输入规格和使用张量参数来避免回溯。 如果您发现性能异常差，最好检查一下是否不小心进行了重跟踪。\n",
    "\n",
    "您可以添加一个eager-only的副作用(比如打印Python参数)，这样就可以看到跟踪函数的时间。在这里，您可以看到额外的回溯，因为新的Python参数总是触发回溯。"
   ]
  },
  {
   "cell_type": "code",
   "execution_count": 18,
   "metadata": {
    "execution": {
     "iopub.execute_input": "2020-11-04T02:22:28.524817Z",
     "iopub.status.busy": "2020-11-04T02:22:28.524138Z",
     "iopub.status.idle": "2020-11-04T02:22:28.571848Z",
     "shell.execute_reply": "2020-11-04T02:22:28.571324Z"
    },
    "id": "jsGQ4GQAP2Ve"
   },
   "outputs": [
    {
     "name": "stdout",
     "output_type": "stream",
     "text": [
      "Tracing!\n",
      "tf.Tensor(6, shape=(), dtype=int32)\n",
      "tf.Tensor(11, shape=(), dtype=int32)\n",
      "Tracing!\n",
      "tf.Tensor(6, shape=(), dtype=int32)\n",
      "Tracing!\n",
      "tf.Tensor(11, shape=(), dtype=int32)\n"
     ]
    }
   ],
   "source": [
    "# Use @tf.function decorator\n",
    "@tf.function\n",
    "def a_function_with_python_side_effect(x):\n",
    "  print(\"Tracing!\")  # This eager\n",
    "  return x * x + tf.constant(2)\n",
    "\n",
    "# This is traced the first time\n",
    "print(a_function_with_python_side_effect(tf.constant(2)))\n",
    "# The second time through, you won't see the side effect\n",
    "print(a_function_with_python_side_effect(tf.constant(3)))\n",
    "\n",
    "# This retraces each time the Python argument changes,\n",
    "# as a Python argument could be an epoch count or other\n",
    "# hyperparameter\n",
    "print(a_function_with_python_side_effect(2))\n",
    "print(a_function_with_python_side_effect(3))\n"
   ]
  },
  {
   "cell_type": "markdown",
   "metadata": {
    "id": "D1kbr5ocpS6R"
   },
   "source": [
    "## 下一步（Next steps）\n",
    "\n",
    "你可以在“tf.function的API参考页面和[指南]”上进行更深入的阅读。"
   ]
  },
  {
   "cell_type": "code",
   "execution_count": null,
   "metadata": {
    "id": "j-RkpB8CEjQu"
   },
   "outputs": [],
   "source": []
  }
 ],
 "metadata": {
  "colab": {
   "collapsed_sections": [],
   "name": "intro_to_graphs.ipynb",
   "provenance": [],
   "toc_visible": true
  },
  "kernelspec": {
   "display_name": "Python 3",
   "name": "python3"
  },
  "language_info": {
   "codemirror_mode": {
    "name": "ipython",
    "version": 3
   },
   "file_extension": ".py",
   "mimetype": "text/x-python",
   "name": "python",
   "nbconvert_exporter": "python",
   "pygments_lexer": "ipython3",
   "version": "3.6.9"
  }
 },
 "nbformat": 4,
 "nbformat_minor": 0
}