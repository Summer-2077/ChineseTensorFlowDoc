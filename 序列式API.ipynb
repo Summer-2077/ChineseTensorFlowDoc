{
 "cells": [
  {
   "cell_type": "markdown",
   "metadata": {
    "colab_type": "text",
    "id": "3PJ0ipqgJT7y"
   },
   "source": [
    "# Sequential 模型\n",
    "\n",
    "### 引入"
   ]
  },
  {
   "cell_type": "code",
   "execution_count": null,
   "metadata": {
    "colab": {},
    "colab_type": "code",
    "id": "yekNDBxnKPni"
   },
   "outputs": [],
   "source": [
    "import tensorflow as tf\n",
    "from tensorflow import keras\n",
    "from tensorflow.keras import layers"
   ]
  },
  {
   "cell_type": "markdown",
   "metadata": {
    "colab_type": "text",
    "id": "OjtsPzZnKTAi"
   },
   "source": [
    "### 何时使用Sequential模型\n",
    "\n",
    "Sequential模型类似一个 **层的堆栈**，其中每个层正好**只有一个输入张量和一个输出张量**。\n",
    "\n",
    "如下所示，如何使用Sequential模型。"
   ]
  },
  {
   "cell_type": "code",
   "execution_count": null,
   "metadata": {
    "colab": {},
    "colab_type": "code",
    "id": "l_zujYdtMZtx"
   },
   "outputs": [],
   "source": [
    "# 定义一个具有三个层的Sequential模型\n",
    "model = keras.Sequential(\n",
    "    [\n",
    "        layers.Dense(2, activation=\"relu\", name=\"layer1\"),\n",
    "        layers.Dense(3, activation=\"relu\", name=\"layer2\"),\n",
    "        layers.Dense(4, name=\"layer3\"),\n",
    "    ]\n",
    ")\n",
    "# 使用tf.ones创建一个初值为1的3*3张量，并作为输入调用模型\n",
    "x = tf.ones((3, 3))\n",
    "y = model(x)\n",
    "\n",
    "print(y.shape)"
   ]
  },
  {
   "cell_type": "markdown",
   "metadata": {
    "colab_type": "text",
    "id": "DNR93vYcOu2m"
   },
   "source": [
    "上面的代码等效于如下方法："
   ]
  },
  {
   "cell_type": "code",
   "execution_count": null,
   "metadata": {
    "colab": {},
    "colab_type": "code",
    "id": "8hLq9BaoPBmO"
   },
   "outputs": [],
   "source": [
    "# 首先创建3个层\n",
    "layer1 = layers.Dense(2, activation=\"relu\", name=\"layer1\")\n",
    "layer2 = layers.Dense(3, activation=\"relu\", name=\"layer2\")\n",
    "layer3 = layers.Dense(4, name=\"layer3\")\n",
    "\n",
    "# 同样的，使用tf.ones创建一个初值为1的3*3张量，通过嵌套调用达到上述效果\n",
    "x = tf.ones((3, 3))\n",
    "y = layer3(layer2(layer1(x)))"
   ]
  },
  {
   "cell_type": "markdown",
   "metadata": {
    "colab_type": "text",
    "id": "MEjAUeydPffQ"
   },
   "source": [
    "Sequential模型**不适用**与以下场景：\n",
    "\n",
    "\n",
    "+   模型需要多个输入或输出\n",
    "+   模型中任何一个层需要多个输入或输出\n",
    "+   需要共享某些层的权重时(共享权重)\n",
    "+   需要非线性拓扑构建模型时(如，残差连接，多分支模型)\n",
    "\n",
    "### 创建一个Sequential模型\n",
    "\n",
    "你可以将一个 **层的列表**传递给Sequential的构造函数，从而构建模型："
   ]
  },
  {
   "cell_type": "code",
   "execution_count": null,
   "metadata": {
    "colab": {},
    "colab_type": "code",
    "id": "itw79jsdRr7W"
   },
   "outputs": [],
   "source": [
    "model = keras.Sequential(\n",
    "    [\n",
    "        layers.Dense(2, activation=\"relu\"),\n",
    "        layers.Dense(3, activation=\"relu\"),\n",
    "        layers.Dense(4),\n",
    "    ]\n",
    ")"
   ]
  },
  {
   "cell_type": "markdown",
   "metadata": {
    "colab_type": "text",
    "id": "7EQWZ1TXRxdH"
   },
   "source": [
    "创建完成之后，**层**作为Sequential模型的一个属性，可以通过`layers`进行访问："
   ]
  },
  {
   "cell_type": "code",
   "execution_count": null,
   "metadata": {
    "colab": {
     "base_uri": "https://localhost:8080/",
     "height": 71
    },
    "colab_type": "code",
    "id": "qspyNQhcShBg",
    "outputId": "1e16976c-a8a8-4cf3-8e47-ccdede0d006e"
   },
   "outputs": [],
   "source": [
    "print(dir(model))  # 查看模型的属性或方法\n",
    "\n",
    "model.layers"
   ]
  },
  {
   "cell_type": "markdown",
   "metadata": {
    "colab_type": "text",
    "id": "V6JL4FLPT5G3"
   },
   "source": [
    "你还可以使用`add()`方法，通过逐个添加层的方式来创建Sequential模型"
   ]
  },
  {
   "cell_type": "code",
   "execution_count": null,
   "metadata": {
    "colab": {},
    "colab_type": "code",
    "id": "zpekcBkvUXye"
   },
   "outputs": [],
   "source": [
    "model = keras.Sequential()\n",
    "model.add(layers.Dense(2, activation=\"relu\"))\n",
    "model.add(layers.Dense(3, activation=\"relu\"))\n",
    "model.add(layers.Dense(4))"
   ]
  },
  {
   "cell_type": "markdown",
   "metadata": {
    "colab_type": "text",
    "id": "mg-NJFoKUcid"
   },
   "source": [
    "值得注意的是，你还可以相应使用`pop()`方法删除层：Sequential模型的行为非常类似于层堆栈，后进先出。"
   ]
  },
  {
   "cell_type": "code",
   "execution_count": null,
   "metadata": {
    "colab": {
     "base_uri": "https://localhost:8080/",
     "height": 35
    },
    "colab_type": "code",
    "id": "187QVlTnV61s",
    "outputId": "bc9c4281-be2d-42da-bcd8-30d526fdf129"
   },
   "outputs": [],
   "source": [
    "model.pop()\n",
    "print(len(model.layers))  # 2"
   ]
  },
  {
   "cell_type": "markdown",
   "metadata": {
    "colab_type": "text",
    "id": "6SgGmhEZWTT7"
   },
   "source": [
    "同样值得注意的是，和Keras中任何层或者模型一样，Sequential的构造函数也接受一个`name`参数。当你使用TensorBoard的时候，有一个言简意赅的标识是非常有用的。"
   ]
  },
  {
   "cell_type": "code",
   "execution_count": null,
   "metadata": {
    "colab": {},
    "colab_type": "code",
    "id": "bqU1qdMVXnv4"
   },
   "outputs": [],
   "source": [
    "model = keras.Sequential(name=\"my_sequential\")\n",
    "model.add(layers.Dense(2, activation=\"relu\", name=\"layer1\"))\n",
    "model.add(layers.Dense(3, activation=\"relu\", name=\"layer2\"))\n",
    "model.add(layers.Dense(4, name=\"layer3\"))"
   ]
  },
  {
   "cell_type": "markdown",
   "metadata": {
    "colab_type": "text",
    "id": "4auldZ-4XtXT"
   },
   "source": [
    "### 预先指定输入形状\n",
    "\n",
    "通常情况下，Keras中所有的层需要知道输入形状，以此来创建相对应的权重变量。所以，当你按照如下方式创建层时，它是没有创建权重的。"
   ]
  },
  {
   "cell_type": "code",
   "execution_count": null,
   "metadata": {
    "colab": {
     "base_uri": "https://localhost:8080/",
     "height": 35
    },
    "colab_type": "code",
    "id": "ucPALf01YjYd",
    "outputId": "02d587eb-508d-4e4f-9cc4-bff2cdac2689"
   },
   "outputs": [],
   "source": [
    "layer = layers.Dense(3)\n",
    "layer.weights  # Empty"
   ]
  },
  {
   "cell_type": "markdown",
   "metadata": {
    "colab_type": "text",
    "id": "QB_Fls2dYlJf"
   },
   "source": [
    "上面的层在首次调用时，会根据输入创建一个权重，因此权重的形状是依据输入的形状决定的。"
   ]
  },
  {
   "cell_type": "code",
   "execution_count": null,
   "metadata": {
    "colab": {
     "base_uri": "https://localhost:8080/",
     "height": 125
    },
    "colab_type": "code",
    "id": "0bpEWATtZLqN",
    "outputId": "9a0fde82-f5e6-42fe-87ea-637a3f34885f"
   },
   "outputs": [],
   "source": [
    "# 用一个测试输入调用层\n",
    "x = tf.ones((1, 4))\n",
    "y = layer(x)\n",
    "layer.weights  # 现在该层有一个权重，且形状为 (4, 3)和(3,)\n",
    "#layer.weights是一个列表，就是训练所得的参数（W和b）"
   ]
  },
  {
   "cell_type": "markdown",
   "metadata": {
    "colab_type": "text",
    "id": "JhV-jZ8naJ7g"
   },
   "source": [
    "当然，上述权重的创建也同样适用于Sequential模型，当你实例化模型且没有预先指定输入形状，模型是没有被“创建”的：也就意味着没有对应的权重(当调用`model.weights`时会报错)，当输入数据时，会根据输入形状创建权重。"
   ]
  },
  {
   "cell_type": "code",
   "execution_count": null,
   "metadata": {
    "colab": {
     "base_uri": "https://localhost:8080/",
     "height": 35
    },
    "colab_type": "code",
    "id": "eVTNPNvCbkwE",
    "outputId": "d7530181-ed2b-4fc3-f997-b8a63542954b"
   },
   "outputs": [],
   "source": [
    "model = keras.Sequential(\n",
    "    [\n",
    "        layers.Dense(2, activation=\"relu\"),\n",
    "        layers.Dense(3, activation=\"relu\"),\n",
    "        layers.Dense(4),\n",
    "    ]\n",
    ")  # 到这一步时，权重没有被创建\n",
    "\n",
    "# 也就是说，你不可以调用如下代码：\n",
    "# model.weights\n",
    "\n",
    "# 当然，你也不可以调用如下代码：\n",
    "# model.summary()\n",
    "\n",
    "# 使用一个测试输入调用模型\n",
    "x = tf.ones((1, 4))\n",
    "y = model(x)\n",
    "print(\"Number of weights after calling the model:\", len(model.weights))  # 6，每层2个"
   ]
  },
  {
   "cell_type": "markdown",
   "metadata": {
    "colab_type": "text",
    "id": "YeTvOWBccD5t"
   },
   "source": [
    "当模型“创建”后，你可以调用`summary()`方法，查看模型的相关信息："
   ]
  },
  {
   "cell_type": "code",
   "execution_count": null,
   "metadata": {
    "colab": {
     "base_uri": "https://localhost:8080/",
     "height": 269
    },
    "colab_type": "code",
    "id": "FNzng_rHcRlc",
    "outputId": "94ba5ce6-7cad-4387-c678-ce13e7eee9da"
   },
   "outputs": [],
   "source": [
    "model.summary()"
   ]
  },
  {
   "cell_type": "markdown",
   "metadata": {
    "colab_type": "text",
    "id": "0EKEk3cucbXw"
   },
   "source": [
    "然而，如果我们能在渐进式的构建模型时，调用`summary()`查看相关信息(包括输入形状等)将会非常有帮助。因此，你可以通过添加`Input`对象的方式，指定输入的形状（形状中不包括批维）。"
   ]
  },
  {
   "cell_type": "code",
   "execution_count": null,
   "metadata": {
    "colab": {
     "base_uri": "https://localhost:8080/",
     "height": 197
    },
    "colab_type": "code",
    "id": "L5PAE2g4d_45",
    "outputId": "6a689850-8438-4c55-8399-65e85d0b7933"
   },
   "outputs": [],
   "source": [
    "model = keras.Sequential()\n",
    "model.add(keras.Input(shape=(4,)))\n",
    "model.add(layers.Dense(2, activation=\"relu\"))\n",
    "\n",
    "model.summary()"
   ]
  },
  {
   "cell_type": "markdown",
   "metadata": {
    "colab_type": "text",
    "id": "oNnEKPPZeHuC"
   },
   "source": [
    "由上面信息我们可以发现，`Input`对象不是`model.layers`的一部分，所以它不是层："
   ]
  },
  {
   "cell_type": "code",
   "execution_count": null,
   "metadata": {
    "colab": {
     "base_uri": "https://localhost:8080/",
     "height": 35
    },
    "colab_type": "code",
    "id": "6lX_CpkWeXZS",
    "outputId": "f2704c17-6bb1-4392-bdc9-7c0cf1d018bc"
   },
   "outputs": [],
   "source": [
    "model.layers"
   ]
  },
  {
   "cell_type": "markdown",
   "metadata": {
    "colab_type": "text",
    "id": "1W4Ut9k7edyW"
   },
   "source": [
    "还有一种更简单的方式指定输入形状，即在模型的第一层中，传入`input_shape`参数"
   ]
  },
  {
   "cell_type": "code",
   "execution_count": null,
   "metadata": {
    "colab": {
     "base_uri": "https://localhost:8080/",
     "height": 197
    },
    "colab_type": "code",
    "id": "5-nsVK-ker2Z",
    "outputId": "88f12c1f-193c-4e0b-cc0c-1e7a9bc02c18"
   },
   "outputs": [],
   "source": [
    "model = keras.Sequential()\n",
    "model.add(layers.Dense(2, activation=\"relu\", input_shape=(4,)))\n",
    "\n",
    "model.summary()"
   ]
  },
  {
   "cell_type": "markdown",
   "metadata": {
    "colab_type": "text",
    "id": "5q-VV5l7e5Yg"
   },
   "source": [
    "通过这种方式，在不需要传入输入数据的情况下，模型将会根据预定义的输入形状进行创建，且模型具有对应的权重以及输入形状。\n",
    "\n",
    "通常情况下，如果你预先知道模型的输入形状的话，最佳的做法就是如上指定输入形状。\n",
    "\n",
    "### 通用的调试流程：add() + summary()\n",
    "\n",
    "当你在构建一个新的Sequential模型结构时，通过`add()`方法渐进式的添加层以及频繁的使用`summary()`查看相关信息将会非常有帮助。如下示例，通过上述方式，将可以查看由`Conv2D`和`MaxPooling2D`层构建的模型，是如何对图片进行降采样得到feature maps(**在cnn的每个卷积层，数据都是以三维形式存在的，你可以把它看成许多个二维图片叠在一起，其中每一个层为一个feature map**)"
   ]
  },
  {
   "cell_type": "code",
   "execution_count": null,
   "metadata": {
    "colab": {
     "base_uri": "https://localhost:8080/",
     "height": 737
    },
    "colab_type": "code",
    "id": "d2gEwD5GiBNd",
    "outputId": "bd2b902b-aa0e-4c75-b6bd-b16b0dfc6c9e"
   },
   "outputs": [],
   "source": [
    "model = keras.Sequential()\n",
    "model.add(keras.Input(shape=(250, 250, 3)))  # 250x250 RGB 图像\n",
    "model.add(layers.Conv2D(32, 5, strides=2, activation=\"relu\"))\n",
    "model.add(layers.Conv2D(32, 3, activation=\"relu\"))\n",
    "model.add(layers.MaxPooling2D(3))\n",
    "\n",
    "# 你可以猜到此时的输出形状是什么么？可能猜不出\n",
    "# 将信息打印出来:\n",
    "model.summary()\n",
    "\n",
    "# 答案是: (40, 40, 32), 所以，我们可以继续进行降采样...\n",
    "\n",
    "model.add(layers.Conv2D(32, 3, activation=\"relu\"))\n",
    "model.add(layers.Conv2D(32, 3, activation=\"relu\"))\n",
    "model.add(layers.MaxPooling2D(3))\n",
    "model.add(layers.Conv2D(32, 3, activation=\"relu\"))\n",
    "model.add(layers.Conv2D(32, 3, activation=\"relu\"))\n",
    "model.add(layers.MaxPooling2D(2))\n",
    "\n",
    "# 现在呢?\n",
    "model.summary()\n",
    "\n",
    "# 现在我们得到 4x4 feature maps, 此时应用最大池化.\n",
    "model.add(layers.GlobalMaxPooling2D())\n",
    "\n",
    "# 最后, 我们添加一个分类层\n",
    "model.add(layers.Dense(10))"
   ]
  },
  {
   "cell_type": "markdown",
   "metadata": {
    "colab_type": "text",
    "id": "OBIzLpqQjXRL"
   },
   "source": [
    "很实用，对吧？\n",
    "\n",
    "### 你可以用创建的模型干什么？\n",
    "当你完成了模型结构的构建，可能你想要用它来做如下事情：\n",
    "\n",
    "+ 训练、评估、推断你的模型\n",
    "+ 将你的模型打包保存在硬盘中\n",
    "+ 利用多个GPU加速模型的训练\n",
    "\n",
    "### 使用顺序模型进行特征提取\n",
    "\n",
    "一旦创建好的Sequential模型，它的行为就类似于函数式API模型。这也就意味着每一层拥有着输入和输出属性。这些属性可以简化一些工作，如通过提取模型的所有中间层，可以快速的创建一个Sequential模型。"
   ]
  },
  {
   "cell_type": "code",
   "execution_count": null,
   "metadata": {
    "colab": {},
    "colab_type": "code",
    "id": "sMD4Xtegl_55"
   },
   "outputs": [],
   "source": [
    "initial_model = keras.Sequential(\n",
    "    [\n",
    "        keras.Input(shape=(250, 250, 3)),\n",
    "        layers.Conv2D(32, 5, strides=2, activation=\"relu\"),\n",
    "        layers.Conv2D(32, 3, activation=\"relu\"),\n",
    "        layers.Conv2D(32, 3, activation=\"relu\"),\n",
    "    ]\n",
    ")\n",
    "\n",
    "feature_extractor = keras.Model(\n",
    "    inputs=initial_model.inputs,\n",
    "    outputs=[layer.output for layer in initial_model.layers]  # 每层的输出\n",
    ")\n",
    "\n",
    "# 使用测试输入调用特征提取\n",
    "x = tf.ones((1, 250, 250, 3))\n",
    "features = feature_extractor(x)\n",
    "print(len(features))\n",
    "print(features[0].shape)  # 第一个卷积层抽取的特征"
   ]
  },
  {
   "cell_type": "markdown",
   "metadata": {
    "colab_type": "text",
    "id": "5PZXDEDDmaLj"
   },
   "source": [
    "下面是类似的例子，对单个层进行特征提取："
   ]
  },
  {
   "cell_type": "code",
   "execution_count": null,
   "metadata": {
    "colab": {},
    "colab_type": "code",
    "id": "tWW9QQvpmi3c"
   },
   "outputs": [],
   "source": [
    "initial_model = keras.Sequential(\n",
    "    [\n",
    "        keras.Input(shape=(250, 250, 3)),\n",
    "        layers.Conv2D(32, 5, strides=2, activation=\"relu\"),\n",
    "        layers.Conv2D(32, 3, activation=\"relu\", name=\"my_intermediate_layer\"),  # 通过名字引用\n",
    "        layers.Conv2D(32, 3, activation=\"relu\"),\n",
    "    ]\n",
    ")\n",
    "\n",
    "feature_extractor = keras.Model(\n",
    "    inputs=initial_model.inputs,\n",
    "    outputs=initial_model.get_layer(name=\"my_intermediate_layer\").output,\n",
    ")\n",
    "\n",
    "# 使用测试输入调用特征提取\n",
    "x = tf.ones((1, 250, 250, 3))\n",
    "features = feature_extractor(x)\n",
    "print(features.shape)"
   ]
  },
  {
   "cell_type": "markdown",
   "metadata": {
    "colab_type": "text",
    "id": "WoZF4Ppjmqsp"
   },
   "source": [
    "### 使用Sequential模型进行迁移学习\n",
    "\n",
    "迁移学习冻结模型底部的层，仅仅使用顶部的层进行训练，如果你不熟悉迁移学习，请先看[迁移学习指南](https://tensorflow.google.cn/guide/keras/transfer_learning/)\n",
    "\n",
    "这里将使用Sequential模型，举例两个常见的迁移学习策略。\n",
    "\n",
    "首先，我们需要有一个Sequential模型，然后你需要冻结除了最后一层之外的其他层，在这个例子中，你只需要通过迭代`model.layers`，对除了最后一层之外的每个层设置`layer.trainable = False`，如下所示："
   ]
  },
  {
   "cell_type": "code",
   "execution_count": null,
   "metadata": {
    "colab": {},
    "colab_type": "code",
    "id": "t6DDLgQZoNQe"
   },
   "outputs": [],
   "source": [
    "# 创建模型结构\n",
    "model = keras.Sequential([\n",
    "    keras.Input(shape=(784))\n",
    "    layers.Dense(32, activation='relu'),\n",
    "    layers.Dense(32, activation='relu'),\n",
    "    layers.Dense(32, activation='relu'),\n",
    "    layers.Dense(10),\n",
    "])\n",
    "\n",
    "# 想必你可能想要先加载预训练权重\n",
    "model.load_weights(...)\n",
    "\n",
    "# 冻结除了最后一层之外的其他层\n",
    "for layer in model.layers[:-1]:\n",
    "  layer.trainable = False\n",
    "\n",
    "# 编译和训练 (只会更新最后一层的权重)\n",
    "model.compile(...)\n",
    "model.fit(...)"
   ]
  },
  {
   "cell_type": "markdown",
   "metadata": {
    "colab_type": "text",
    "id": "Y-5lJjdnoqEQ"
   },
   "source": [
    "基于同样的构建策略，我们使用Sequential将一个预训练的模型和一个新初始化的分类层堆叠在一起，如下所示："
   ]
  },
  {
   "cell_type": "code",
   "execution_count": null,
   "metadata": {
    "colab": {},
    "colab_type": "code",
    "id": "6AIYrOCgpNEY"
   },
   "outputs": [],
   "source": [
    "# 加载一个带有预训练权重的卷积基\n",
    "base_model = keras.applications.Xception(\n",
    "    weights='imagenet',\n",
    "    include_top=False,\n",
    "    pooling='avg')\n",
    "\n",
    "# 冻结该模型\n",
    "base_model.trainable = False\n",
    "\n",
    "# 使用Sequential模型，将一个分类器添加到顶部\n",
    "model = keras.Sequential([\n",
    "    base_model,\n",
    "    layers.Dense(1000),\n",
    "])\n",
    "\n",
    "# 编译 & 训练\n",
    "model.compile(...)\n",
    "model.fit(...)"
   ]
  },
  {
   "cell_type": "markdown",
   "metadata": {
    "colab_type": "text",
    "id": "OGFja2YlpqFR"
   },
   "source": [
    "如果你进行迁移学习，你可能会经常使用这两种模式。\n",
    "\n",
    "以上就是需要了解的Sequential模型的全部内容！ \n",
    "要了解有关在Keras中构建模型的更多信息，请参见：\n",
    "+ [函数式API指南](https://tensorflow.google.cn/guide/keras/functional/)\n",
    "+ [通过子类创建新的层和模型指南](https://tensorflow.google.cn/guide/keras/custom_layers_and_models/)"
   ]
  }
 ],
 "metadata": {
  "accelerator": "GPU",
  "colab": {
   "authorship_tag": "ABX9TyPwE8GNQU8FBFvYET3DsROc",
   "collapsed_sections": [],
   "name": "Sequential API.ipynb",
   "provenance": []
  },
  "kernelspec": {
   "display_name": "tensorflow2",
   "language": "python",
   "name": "tensorflow2"
  },
  "language_info": {
   "codemirror_mode": {
    "name": "ipython",
    "version": 3
   },
   "file_extension": ".py",
   "mimetype": "text/x-python",
   "name": "python",
   "nbconvert_exporter": "python",
   "pygments_lexer": "ipython3",
   "version": "3.7.6"
  }
 },
 "nbformat": 4,
 "nbformat_minor": 1
}
