{
 "cells": [
  {
   "cell_type": "markdown",
   "metadata": {
    "colab_type": "text",
    "id": "U9i2Dsh-ziXr"
   },
   "source": [
    "# 自定义基础：张量和操作"
   ]
  },
  {
   "cell_type": "markdown",
   "metadata": {
    "colab_type": "text",
    "id": "6sILUVbHoSgH"
   },
   "source": [
    "这是TensorFlow入门教程，显示如何:\n",
    "\n",
    "* 导入需要的包\n",
    "* 创建和使用张量\n",
    "* 使用GPU加速\n",
    "* 展示`tf.data.Dataset`"
   ]
  },
  {
   "cell_type": "markdown",
   "metadata": {
    "colab_type": "text",
    "id": "z1JcS5iBXMRO"
   },
   "source": [
    "## 导入TensorFlow\n",
    "\n",
    "首先，导入`tensorflow`模块。从TensorFlow 2开始，默认情况下将打开即刻执行功能。这样可以使TensorFlow更具交互性，我们将在以后详细讨论其细节。"
   ]
  },
  {
   "cell_type": "code",
   "execution_count": null,
   "metadata": {
    "colab": {},
    "colab_type": "code",
    "id": "vjBPmYjLdFmk"
   },
   "outputs": [],
   "source": [
    "import tensorflow as tf"
   ]
  },
  {
   "cell_type": "markdown",
   "metadata": {
    "colab_type": "text",
    "id": "H9UySOPLXdaw"
   },
   "source": [
    "## 张量\n",
    "\n",
    "`tf.Tensor`张量是一个多维数组。与NumPy `ndarray`对象相似， `tf.Tensor`对象具有数据类型和形状。此外， `tf.Tensor`可以驻留在加速器内存（如GPU）中。 TensorFlow提供了丰富的操作库（ tf.add ， tf.matmul ， tf.linalg.inv等），这些操作消耗并产生`tf.Tensor` 。这些操作会自动转换本地Python类型，例如：\n"
   ]
  },
  {
   "cell_type": "code",
   "execution_count": null,
   "metadata": {
    "cellView": "code",
    "colab": {},
    "colab_type": "code",
    "id": "ngUe237Wt48W"
   },
   "outputs": [],
   "source": [
    "print(tf.add(1, 2))  # 自动转换python类型\n",
    "print(tf.add([1, 2], [3, 4]))\n",
    "print(tf.square(5))\n",
    "print(tf.reduce_sum([1, 2, 3]))\n",
    "\n",
    "# 支持重载运算符\n",
    "print(tf.square(2) + tf.square(3))"
   ]
  },
  {
   "cell_type": "markdown",
   "metadata": {
    "colab_type": "text",
    "id": "IDY4WsYRhP81"
   },
   "source": [
    "每个`tf.Tensor`有形状和数据类型:"
   ]
  },
  {
   "cell_type": "code",
   "execution_count": null,
   "metadata": {
    "colab": {},
    "colab_type": "code",
    "id": "srYWH1MdJNG7"
   },
   "outputs": [],
   "source": [
    "x = tf.matmul([[1]], [[2, 3]])\n",
    "print(x)\n",
    "print(x.shape)\n",
    "print(x.dtype)"
   ]
  },
  {
   "cell_type": "markdown",
   "metadata": {
    "colab_type": "text",
    "id": "eBPw8e8vrsom"
   },
   "source": [
    "Numpy数组和张量的最明显的区别是：\n",
    "\n",
    "1. 张量可由加速器存储，如GPU和TPU支持.\n",
    "2. 张量是不可变."
   ]
  },
  {
   "cell_type": "markdown",
   "metadata": {
    "colab_type": "text",
    "id": "Dwi1tdW3JBw6"
   },
   "source": [
    "### NumPy兼容性\n",
    "\n",
    "在TensorFlow的tf.Tensor和NumPy的ndarray之间进行转换很容易：\n",
    "* TensorFlow操作会自动将NumPy ndarray转换为Tensors。\n",
    "* NumPy操作自动将张量转换为NumPy ndarray。\n",
    "\n",
    "使用张量的`.numpy()`方法将张量显式转换为NumPy ndarray。这些转换通常很便宜，因为如果可能的话，数组和tf.Tensor共享底层的内存表示形式。但是，共享底层表示并不总是可能的，因为tf.Tensor可能托管在GPU内存中，而NumPy数组始终由主机内存支持，并且转换涉及从GPU到主机内存的复制。\n"
   ]
  },
  {
   "cell_type": "code",
   "execution_count": null,
   "metadata": {
    "colab": {},
    "colab_type": "code",
    "id": "lCUWzso6mbqR"
   },
   "outputs": [],
   "source": [
    "import numpy as np\n",
    "\n",
    "ndarray = np.ones([3, 3])\n",
    "\n",
    "print(\"TensorFlow operations convert numpy arrays to Tensors automatically\")\n",
    "tensor = tf.multiply(ndarray, 42)\n",
    "print(tensor)\n",
    "\n",
    "\n",
    "print(\"And NumPy operations convert Tensors to numpy arrays automatically\")\n",
    "print(np.add(tensor, 1))\n",
    "\n",
    "print(\"The .numpy() method explicitly converts a Tensor to a numpy array\")\n",
    "print(tensor.numpy())"
   ]
  },
  {
   "cell_type": "markdown",
   "metadata": {
    "colab_type": "text",
    "id": "PBNP8yTRfu_X"
   },
   "source": [
    "## GPU加速\n",
    "\n",
    "使用GPU进行计算可加速许多TensorFlow操作。没有任何标记，TensorFlow会自动决定是使用GPU还是CPU进行操作-必要时在CPU和GPU内存之间复制张量。由操作产生的张量通常由执行操作的设备的内存支持，例如：\n"
   ]
  },
  {
   "cell_type": "code",
   "execution_count": null,
   "metadata": {
    "cellView": "code",
    "colab": {},
    "colab_type": "code",
    "id": "3Twf_Rw-gQFM"
   },
   "outputs": [],
   "source": [
    "x = tf.random.uniform([3, 3])\n",
    "\n",
    "print(\"Is there a GPU available: \"),\n",
    "print(tf.config.experimental.list_physical_devices(\"GPU\"))\n",
    "\n",
    "print(\"Is the Tensor on GPU #0:  \"),\n",
    "print(x.device.endswith('GPU:0'))"
   ]
  },
  {
   "cell_type": "markdown",
   "metadata": {
    "colab_type": "text",
    "id": "vpgYzgVXW2Ud"
   },
   "source": [
    "### 设备名\n",
    "\n",
    "`Tensor.device`属性提供存放张量内容的设备的标准字符串名称。此名称编码许多详细信息，例如正在执行此程序的主机的网络地址以及该主机中的设备的标识符。这是分布式执行TensorFlow程序所必需的。如果张量放置在主机的第N个GPU上，则字符串以`GPU:<N>`结尾。\n"
   ]
  },
  {
   "cell_type": "markdown",
   "metadata": {
    "colab_type": "text",
    "id": "ZWZQCimzuqyP"
   },
   "source": [
    "### 显式设备放置\n",
    "\n",
    "在TensorFlow中， `放置`是指如何将单个操作分配（放置）在设备上以执行。如前所述，当没有提供明确的指导时，TensorFlow会自动决定执行哪个设备，并在需要时将张量复制到该设备上。但是，可以使用`tf.device`上下文管理器将TensorFlow操作显式放置在特定设备上，例如：\n"
   ]
  },
  {
   "cell_type": "code",
   "execution_count": null,
   "metadata": {
    "colab": {},
    "colab_type": "code",
    "id": "RjkNZTuauy-Q"
   },
   "outputs": [],
   "source": [
    "import time\n",
    "\n",
    "def time_matmul(x):\n",
    "  start = time.time()\n",
    "  for loop in range(10):\n",
    "    tf.matmul(x, x)\n",
    "\n",
    "  result = time.time()-start\n",
    "\n",
    "  print(\"10 loops: {:0.2f}ms\".format(1000*result))\n",
    "\n",
    "# 强制在CPU上执行\n",
    "print(\"On CPU:\")\n",
    "with tf.device(\"CPU:0\"):\n",
    "  x = tf.random.uniform([1000, 1000])\n",
    "  assert x.device.endswith(\"CPU:0\")\n",
    "  time_matmul(x)\n",
    "\n",
    "# 如果可能，强制在1号CPU上执行\n",
    "if tf.config.experimental.list_physical_devices(\"GPU\"):\n",
    "  print(\"On GPU:\")\n",
    "  with tf.device(\"GPU:0\"): # Or GPU:1 for the 2nd GPU, GPU:2 for the 3rd etc.\n",
    "    x = tf.random.uniform([1000, 1000])\n",
    "    assert x.device.endswith(\"GPU:0\")\n",
    "    time_matmul(x)"
   ]
  },
  {
   "cell_type": "markdown",
   "metadata": {
    "colab_type": "text",
    "id": "o1K4dlhhHtQj"
   },
   "source": [
    "## 数据集\n",
    "\n",
    "这一节使用[`tf.data.Dataset` API] 构建喂数据到模型的管道。`tf.data.Dataset` API用来从简单的可复用代码构建给训练和评价循环使用的高效的、复杂的输入管道。"
   ]
  },
  {
   "cell_type": "markdown",
   "metadata": {
    "colab_type": "text",
    "id": "zI0fmOynH-Ne"
   },
   "source": [
    "### 创建`Dataset`\n",
    "\n",
    "使用工厂方法（例如Dataset.from_tensors ， Dataset.from_tensor_slices ）或使用从文件读取的对象（例如TextLineDataset或TFRecordDataset)来创建`源数据集`。有关更多信息，请参见TensorFlow数据集指南 。\n"
   ]
  },
  {
   "cell_type": "code",
   "execution_count": null,
   "metadata": {
    "colab": {},
    "colab_type": "code",
    "id": "F04fVOHQIBiG"
   },
   "outputs": [],
   "source": [
    "ds_tensors = tf.data.Dataset.from_tensor_slices([1, 2, 3, 4, 5, 6])\n",
    "\n",
    "# 创建一个CSV文件\n",
    "import tempfile\n",
    "_, filename = tempfile.mkstemp()\n",
    "\n",
    "with open(filename, 'w') as f:\n",
    "  f.write(\"\"\"Line 1\n",
    "Line 2\n",
    "Line 3\n",
    "  \"\"\")\n",
    "\n",
    "ds_file = tf.data.TextLineDataset(filename)"
   ]
  },
  {
   "cell_type": "markdown",
   "metadata": {
    "colab_type": "text",
    "id": "vbxIhC-5IPdf"
   },
   "source": [
    "### 应用转换\n",
    "\n",
    "使用操作，如[`map`], [`batch`], 和 [`shuffle`]对数据集中的记录进行转换。 "
   ]
  },
  {
   "cell_type": "code",
   "execution_count": null,
   "metadata": {
    "colab": {},
    "colab_type": "code",
    "id": "uXSDZWE-ISsd"
   },
   "outputs": [],
   "source": [
    "ds_tensors = ds_tensors.map(tf.square).shuffle(2).batch(2)\n",
    "\n",
    "ds_file = ds_file.batch(2)"
   ]
  },
  {
   "cell_type": "markdown",
   "metadata": {
    "colab_type": "text",
    "id": "A8X1GNfoIZKJ"
   },
   "source": [
    "### 迭代\n",
    "\n",
    "`tf.data.Dataset`对象支持在记录集上迭代:"
   ]
  },
  {
   "cell_type": "code",
   "execution_count": null,
   "metadata": {
    "colab": {},
    "colab_type": "code",
    "id": "ws-WKRk5Ic6-"
   },
   "outputs": [],
   "source": [
    "print('Elements of ds_tensors:')\n",
    "for x in ds_tensors:\n",
    "  print(x)\n",
    "\n",
    "print('\\nElements in ds_file:')\n",
    "for x in ds_file:\n",
    "  print(x)"
   ]
  }
 ],
 "metadata": {
  "accelerator": "GPU",
  "colab": {
   "collapsed_sections": [],
   "name": "basics.ipynb",
   "private_outputs": true,
   "provenance": [],
   "toc_visible": true
  },
  "kernelspec": {
   "display_name": "tensorflow2",
   "language": "python",
   "name": "tensorflow2"
  },
  "language_info": {
   "codemirror_mode": {
    "name": "ipython",
    "version": 3
   },
   "file_extension": ".py",
   "mimetype": "text/x-python",
   "name": "python",
   "nbconvert_exporter": "python",
   "pygments_lexer": "ipython3",
   "version": "3.7.6"
  }
 },
 "nbformat": 4,
 "nbformat_minor": 1
}
